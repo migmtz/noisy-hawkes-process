{
 "cells": [
  {
   "cell_type": "code",
   "execution_count": 1,
   "id": "52db1c04",
   "metadata": {},
   "outputs": [],
   "source": [
    "import numpy as np\n",
    "import matplotlib\n",
    "from matplotlib import pyplot as plt\n",
    "from matplotlib import cm\n",
    "from scipy import stats\n",
    "from collections import deque\n",
    "from scipy.optimize import minimize\n",
    "from scipy.linalg import norm, inv, det\n",
    "import time\n",
    "import seaborn as sns\n",
    "sns.set_theme()"
   ]
  },
  {
   "cell_type": "markdown",
   "id": "651b607f",
   "metadata": {},
   "source": [
    "# Functions"
   ]
  },
  {
   "cell_type": "code",
   "execution_count": 3,
   "id": "b1e111b8",
   "metadata": {},
   "outputs": [],
   "source": [
    "class multivariate_exponential_hawkes(object):\n",
    "    \"\"\"\n",
    "    Multivariate Hawkes process with exponential kernel. No events nor initial conditions considered.\n",
    "    \"\"\"\n",
    "\n",
    "    def __init__(self, mu, alpha, beta, max_jumps=None, max_time=None):\n",
    "        \"\"\"\n",
    "\n",
    "        Parameters\n",
    "        ----------\n",
    "        mu : array_like\n",
    "            Baseline intensity vector. mu.shape[0] must coincide with shapes for alpha and beta.\n",
    "        alpha : array_like\n",
    "            Interaction factors matrix. Must be a square array with alpha.shape[0] coinciding with mu and beta.\n",
    "        beta : array_like\n",
    "            Decay factor matrix. Must be either an array. When corresponding to decay for each process i, it must\n",
    "            be of shape (number_of_process, 1), or a square array. beta.shape[0] must coincide with mu and alpha.\n",
    "        max_jumps : float, optional\n",
    "            Maximal number of jumps. The default is None.\n",
    "        max_time : float, optional\n",
    "            Maximal time horizon. The default is None.\n",
    "\n",
    "        Attributes\n",
    "        ----------\n",
    "        nb_processes : int\n",
    "            Number of dimensions.\n",
    "        timestamps : list of tuple (float, int)\n",
    "            List of simulated events and their marks.\n",
    "        intensity_jumps : array of float\n",
    "            Array containing all intensities at each jump. It includes the baseline intensities mu.\n",
    "        simulated : bool\n",
    "            Parameter that marks if a process has been already been simulated,\n",
    "            or if its event times have been initialized.\n",
    "\n",
    "        \"\"\"\n",
    "\n",
    "        # We must begin by verifying that the process is a point process. In other words, that the number of\n",
    "        # points in any bounded interval is a.s. finite. For this, we have to verify that the spectral radius of\n",
    "        # the matrix alpha/beta (term by term) is <1.\n",
    "\n",
    "        beta_radius = np.copy(beta)\n",
    "        beta_radius[beta_radius == 0] = 1\n",
    "        spectral_radius = np.max(np.abs(np.linalg.eig(np.abs(alpha) / beta_radius)[0]))\n",
    "\n",
    "        if spectral_radius >= 1:\n",
    "            # raise ValueError(\"Spectral radius is %s, which makes the process unstable.\" % (spectral_radius))\n",
    "            warnings.warn(\"Spectral radius is %s, which makes the process unstable.\" % (spectral_radius),RuntimeWarning)\n",
    "        self.mu = mu.reshape((alpha.shape[0], 1))\n",
    "        self.alpha = alpha\n",
    "        self.beta = beta\n",
    "        self.max_jumps = max_jumps\n",
    "        self.max_time = max_time\n",
    "\n",
    "        self.nb_processes = self.mu.shape[0]\n",
    "        self.count = np.zeros(self.nb_processes, dtype=int)\n",
    "\n",
    "        self.timestamps = [(0.0, 0)]\n",
    "        self.intensity_jumps = np.copy(mu)\n",
    "\n",
    "        self.simulated = False\n",
    "\n",
    "    def simulate(self):\n",
    "        \"\"\"\n",
    "        Auxiliary function to check if already simulated and, if not, which simulation to launch.\n",
    "\n",
    "        Simulation follows Ogata's adapted thinning algorithm. Upper bound obtained by the positive-part process.\n",
    "\n",
    "        Works with both self-exciting and self-regulating processes.\n",
    "\n",
    "        To launch simulation either self.max_jumps or self.max_time must be other than None, so the algorithm knows when to stop.\n",
    "        \"\"\"\n",
    "        if not self.simulated:\n",
    "            if self.max_jumps is not None and self.max_time is None:\n",
    "                self.simulate_jumps()\n",
    "            elif self.max_time is not None and self.max_jumps is None:\n",
    "                self.simulate_time()\n",
    "            else:\n",
    "                print(\"Either max_jumps or max_time must be given.\")\n",
    "            self.simulated = True\n",
    "\n",
    "        else:\n",
    "            print(\"Process already simulated\")\n",
    "\n",
    "    def simulate_jumps(self):\n",
    "        \"\"\"\n",
    "        Simulation is done until the maximal number of jumps (self.max_jumps) is attained.\n",
    "        \"\"\"\n",
    "        flag = 0\n",
    "        t = 0\n",
    "\n",
    "        auxiliary_alpha = np.where(self.alpha > 0, self.alpha, 0)\n",
    "        auxiliary_ij = np.zeros((self.nb_processes, self.nb_processes))\n",
    "        auxiliary_intensity = np.copy(self.mu)\n",
    "\n",
    "        ij_intensity = np.zeros((self.nb_processes, self.nb_processes))\n",
    "\n",
    "        while flag < self.max_jumps:\n",
    "\n",
    "            upper_intensity = np.sum(auxiliary_intensity)\n",
    "\n",
    "            previous_t = t\n",
    "            t += np.random.exponential(1 / upper_intensity)\n",
    "\n",
    "            # ij_intensity = np.multiply(ij_intensity, np.exp(-self.beta * (t - self.timestamps[-1][0])))\n",
    "            ij_intensity = np.multiply(ij_intensity, np.exp(-self.beta * (t - previous_t)))\n",
    "            candidate_intensities = self.mu + np.sum(ij_intensity, axis=1, keepdims=True)\n",
    "            pos_candidate = np.maximum(candidate_intensities, 0) / upper_intensity\n",
    "            type_event = np.random.multinomial(1, np.concatenate((pos_candidate.squeeze(), np.array([0.0])))).argmax()\n",
    "            if type_event < self.nb_processes:\n",
    "                self.timestamps += [(t, type_event + 1)]\n",
    "                ij_intensity[:, type_event] += self.alpha[:, type_event]\n",
    "                self.intensity_jumps = np.c_[\n",
    "                    self.intensity_jumps, self.mu + np.sum(ij_intensity, axis=1, keepdims=True)]\n",
    "\n",
    "                auxiliary_ij = np.multiply(auxiliary_ij, np.exp(-self.beta * (t - self.timestamps[-2][0])))\n",
    "                auxiliary_ij[:, type_event] += auxiliary_alpha[:, type_event]\n",
    "                auxiliary_intensity = self.mu + np.sum(auxiliary_ij, axis=1, keepdims=True)\n",
    "\n",
    "                flag += 1\n",
    "\n",
    "                self.count[type_event] += 1\n",
    "\n",
    "        self.max_time = self.timestamps[-1][0]\n",
    "        # Important to add the max_time for plotting and being consistent.\n",
    "        self.timestamps += [(self.max_time, 0)]\n",
    "\n",
    "    def simulate_time(self):\n",
    "        \"\"\"\n",
    "        Simulation is done for a window [0, T] (T = self.max_time) is attained.\n",
    "        \"\"\"\n",
    "        t = 0\n",
    "        flag = t < self.max_time\n",
    "\n",
    "        auxiliary_alpha = np.where(self.alpha > 0, self.alpha, 0)\n",
    "        auxiliary_ij = np.zeros((self.nb_processes, self.nb_processes))\n",
    "        auxiliary_intensity = np.copy(self.mu)\n",
    "\n",
    "        ij_intensity = np.zeros((self.nb_processes, self.nb_processes))\n",
    "\n",
    "        while flag:\n",
    "\n",
    "            upper_intensity = np.sum(auxiliary_intensity)\n",
    "\n",
    "            previous_t = t\n",
    "            t += np.random.exponential(1 / upper_intensity)\n",
    "\n",
    "            # ij_intensity = np.multiply(ij_intensity, np.exp(-self.beta * (t - self.timestamps[-1][0])))\n",
    "            ij_intensity = np.multiply(ij_intensity, np.exp(-self.beta * (t - previous_t)))\n",
    "            candidate_intensities = self.mu + np.sum(ij_intensity, axis=1, keepdims=True)\n",
    "            pos_candidate = np.maximum(candidate_intensities, 0) / upper_intensity\n",
    "            type_event = np.random.multinomial(1,\n",
    "                                               np.concatenate((pos_candidate.squeeze(), np.array([0.0])))).argmax()\n",
    "            flag = t < self.max_time\n",
    "            if type_event < self.nb_processes and flag:\n",
    "                self.timestamps += [(t, type_event + 1)]\n",
    "                ij_intensity[:, type_event] += self.alpha[:, type_event]\n",
    "                self.intensity_jumps = np.c_[\n",
    "                    self.intensity_jumps, self.mu + np.sum(ij_intensity, axis=1, keepdims=True)]\n",
    "\n",
    "                auxiliary_ij = np.multiply(auxiliary_ij, np.exp(-self.beta * (t - self.timestamps[-2][0])))\n",
    "                auxiliary_ij[:, type_event] += auxiliary_alpha[:, type_event]\n",
    "                auxiliary_intensity = self.mu + np.sum(auxiliary_ij, axis=1, keepdims=True)\n",
    "\n",
    "                self.count[type_event] += 1\n",
    "\n",
    "        self.timestamps += [(self.max_time, 0)]\n",
    "\n",
    "    def plot_intensity(self, ax=None, plot_N=True, where=10):\n",
    "        \"\"\"\n",
    "        Plot intensity function. If plot_N is True, plots also step functions N^i([0,t]).\n",
    "        The parameter ax allows to plot the intensity function in a previously created plot.\n",
    "\n",
    "        Parameters\n",
    "        ----------\n",
    "        ax : array of Axes, optional.\n",
    "            If None, method will generate own figure.\n",
    "            Otherwise, will use given axes. Must be array of shape (2,K) if plot_N = True, or (K,) if plot_N = False\n",
    "        plot_N : bool, optional.\n",
    "            Whether we plot the step function N^i or not.\n",
    "        \"\"\"\n",
    "\n",
    "        if not self.simulated:\n",
    "            print(\"Simulate first\")\n",
    "\n",
    "        else:\n",
    "            plt.rcParams['axes.grid'] = True\n",
    "            if plot_N:\n",
    "                jumps_plot = [[0] for i in range(self.nb_processes)]\n",
    "                if ax is None:\n",
    "                    fig, ax = plt.subplots(2, self.nb_processes, sharex=True)\n",
    "                    ax1 = ax[0, :]\n",
    "                    ax2 = ax[1, :]\n",
    "                elif isinstance(ax[0,0], matplotlib.axes.Axes):\n",
    "                    ax1 = ax[0, :]\n",
    "                    ax2 = ax[1, :]\n",
    "                else:\n",
    "                    return \"ax is the wrong shape. It should be (2, number of processes+1)\"\n",
    "            else:\n",
    "                if ax is None:\n",
    "                    fig, ax1 = plt.subplots(1, self.nb_processes)\n",
    "                elif isinstance(ax, matplotlib.axes.Axes) or isinstance(ax, np.ndarray):\n",
    "                    ax1 = ax\n",
    "                else:\n",
    "                    return \"ax is the wrong shape. It should be (number of processes+1,)\"\n",
    "\n",
    "            times = [0, self.timestamps[1][0]]\n",
    "            intensities = np.array([[self.mu[i, 0], self.mu[i, 0]] for i in range(self.nb_processes)])\n",
    "\n",
    "            ij_intensity = np.zeros((self.nb_processes, self.nb_processes))\n",
    "\n",
    "            step = 100\n",
    "            # print(\"here\", self.timestamps[len(self.timestamps)])\n",
    "\n",
    "            for i in range(1, len(self.timestamps[1:where])):\n",
    "                # On commence par mettre à jour la matrice lambda^{ij}\n",
    "                ij_intensity = np.multiply(ij_intensity,\n",
    "                                           np.exp(-self.beta * (self.timestamps[i][0] - self.timestamps[i - 1][0])))\n",
    "                # On enregistre le saut d'intensité de l'évenement, pour son type.\n",
    "                ij_intensity[:, self.timestamps[i][1]-1] += self.alpha[:, self.timestamps[i][1]-1]\n",
    "\n",
    "                # On définit la fonction à tracer entre T_n et T_{n+1}\n",
    "                func = lambda x: self.mu + np.matmul(\n",
    "                    np.multiply(ij_intensity, np.exp(-self.beta * (x - self.timestamps[i][0]))),\n",
    "                                np.ones((self.nb_processes, 1)))\n",
    "\n",
    "                # On enregistre la division de temps et les sauts\n",
    "                interval_t = np.linspace(self.timestamps[i][0], self.timestamps[i + 1][0], step)\n",
    "                times += interval_t.tolist()\n",
    "\n",
    "                intensities = np.concatenate((intensities, np.array(list(map(func, interval_t))).squeeze().T ), axis=1)\n",
    "                if plot_N:\n",
    "                    jumps_plot[self.timestamps[i][1]-1] += [self.timestamps[i][0] for t in range(2)]\n",
    "\n",
    "            for i in range(self.nb_processes):\n",
    "                ax1[i].plot(times, intensities[i], label=\"Underlying intensity\", c=\"#1f77b4\", linestyle=\"--\")\n",
    "                ax1[i].plot(times, np.maximum(intensities[i], 0), label=\"Conditional intensity\", c='r')\n",
    "                # ax1[i].plot([i for i,j in self.timestamps[:-1]], self.intensity_jumps[i,:], c='k', alpha=0.5)\n",
    "\n",
    "            ax1[0].legend()\n",
    "\n",
    "            if plot_N:\n",
    "                for i in range(self.nb_processes):\n",
    "                    jumps_plot[i] += [times[-1]]\n",
    "                    ax2[i].plot(jumps_plot[i], [t for t in range(len(jumps_plot[i])//2) for j in range(2)], c=\"r\", label=\"Process #%s\"%(i+1))\n",
    "                    # ax2[i].set_ylim(ax2[i].get_ylim())\n",
    "                    for j in range(self.nb_processes):\n",
    "                        if j != i:\n",
    "                            ax2[j].plot(jumps_plot[i], [t for t in range(len(jumps_plot[i])//2) for j in range(2)], c=\"#1f77b4\", alpha=0.5)\n",
    "\n",
    "                    ax2[i].legend()\n",
    "\n",
    "    def plot_heatmap(self, ax=None):\n",
    "        \"\"\"\n",
    "        This function allows to observe the heatmap where each cell {ij} corresponds to the value {alpha/beta} from that interaction\n",
    "\n",
    "        Parameters\n",
    "        ----------\n",
    "        ax : .axes.Axes, optional.\n",
    "            If None, method will generate own ax.\n",
    "            Otherwise, will use given ax.\n",
    "        \"\"\"\n",
    "        import seaborn as sns\n",
    "\n",
    "        if ax is None:\n",
    "            fig, ax = plt.subplots()\n",
    "        else:\n",
    "            ax = ax\n",
    "        beta_heat = np.copy(self.beta)\n",
    "        beta_heat[beta_heat == 0] = 1\n",
    "        heat_matrix = self.alpha/beta_heat\n",
    "\n",
    "        hex_list = ['#FF3333', '#FFFFFF', '#33FF49']\n",
    "\n",
    "        ax = sns.heatmap(heat_matrix, cmap=get_continuous_cmap(hex_list), center=0, ax=ax, annot=True)"
   ]
  },
  {
   "cell_type": "code",
   "execution_count": 4,
   "id": "91b5953e",
   "metadata": {},
   "outputs": [],
   "source": [
    "def multivariate_periodogram(w, tList):\n",
    "    max_time = tList[-1][0]\n",
    "    dim = int(np.max(np.array(tList)[:, 1]))\n",
    "    \n",
    "    dimensional_times = [[t for t,i in tList if i == j] for j in range(1, dim+1)]\n",
    "    \n",
    "    J_w = np.array([np.sum([np.exp(2j * np.pi * w * t) for t in i]) for i in dimensional_times]).reshape((dim, 1))\n",
    "    return (1/max_time) * J_w @ np.conj(J_w.T)\n",
    "\n",
    "\n",
    "def multivariate_spectral_noised_density(w, theta):\n",
    "    mu, alpha, beta, noise = theta\n",
    "    dim = mu.shape[0]\n",
    "    mean_matrix = np.identity(dim) * (inv(np.identity(dim) - alpha + 1e-12) @ mu)\n",
    "    \n",
    "    fourier_matrix = alpha * beta / (beta + 2j * np.pi * w)\n",
    "    spectral_matrix = inv(np.identity(dim) - fourier_matrix)\n",
    "    return np.conj(spectral_matrix) @ mean_matrix @ (spectral_matrix.T) + noise * np.identity(dim)\n",
    "\n",
    "\n",
    "def spectral_multivariate_noised_ll(theta, periodogram, K, max_time):\n",
    "    dim = int(np.sqrt(theta.shape[0]) - 1)\n",
    "    theta_mid = theta[:-1]\n",
    "    theta_aux = (theta_mid[:dim].reshape((dim, 1)), theta_mid[dim:-dim].reshape((dim, dim)), theta_mid[-dim:].reshape((dim, 1)), theta[-1])\n",
    "    f_matrixes = [multivariate_spectral_noised_density(j/max_time, theta_aux) for j in range(1, K+1)]\n",
    "    ll = np.sum([np.trace(inv(f_matrixes[i]) @ periodogram[i]) + np.log(det(f_matrixes[i])) for i in range(0, K)])\n",
    "    return (1/max_time) * ll"
   ]
  },
  {
   "cell_type": "code",
   "execution_count": 5,
   "id": "80c62932",
   "metadata": {},
   "outputs": [],
   "source": [
    "def multivariate_periodogram(w, tList):\n",
    "    max_time = tList[-1][0]\n",
    "    dim = int(np.max(np.array(tList)[:, 1]))\n",
    "    \n",
    "    dimensional_times = [[t for t,i in tList if i == j] for j in range(1, dim+1)]\n",
    "    \n",
    "    J_w = np.array([np.sum([np.exp(2j * np.pi * w * t) for t in i]) for i in dimensional_times]).reshape((dim, 1))\n",
    "    return (1/max_time) * J_w @ np.conj(J_w.T)\n",
    "\n",
    "\n",
    "def multivariate_spectral_noised_column(w, theta):\n",
    "    mu, alpha_aux, beta, noise = theta\n",
    "    alpha = np.hstack((alpha_aux.reshape((2, 1)), np.zeros((2,1))))\n",
    "    #beta = np.array([beta_aux, 0]).reshape((2, 1))\n",
    "    dim = mu.shape[0]\n",
    "    m_1 = mu[0,0]/(1-alpha[0,0])\n",
    "    m_2 = mu[1,0] + m_1 * alpha[1,0]\n",
    "    \n",
    "    aux_11 = (beta[0,0]**2 + (2 * np.pi * w)**2)/(((1- alpha[0,0])* beta[0,0])**2 + (2 * np.pi * w)**2)\n",
    "\n",
    "    f_11 = m_1 * aux_11 + noise\n",
    "    f_12 = m_1 * aux_11 * (alpha[1,0] * beta[1,0])/(beta[1,0] + 2j * np.pi * w)\n",
    "    f_21 = m_1 * aux_11 * (alpha[1,0] * beta[1,0])/(beta[1,0] - 2j * np.pi * w)\n",
    "    f_22 = m_1 * aux_11 * ((alpha[1,0] * beta[1,0])**2)/(beta[1,0]**2 + (2 * np.pi * w)**2) + m_2 + noise\n",
    "    return np.array([[f_11, f_12], [f_21, f_22]])\n",
    "\n",
    "\n",
    "def spectral_multivariate_noised_ll_column(theta, periodogram, K, max_time):\n",
    "    dim = 2\n",
    "    #theta_mid = theta[:-1]\n",
    "    theta_aux = (np.array(theta[:dim]).reshape((dim, 1)), \n",
    "                 np.array(theta[dim:dim+2]).reshape((dim, 1)), \n",
    "                 np.array(theta[dim+2:-1]).reshape((dim,1)), \n",
    "                 theta[-1])\n",
    "    f_matrixes = [multivariate_spectral_noised_column(j/max_time, theta_aux) for j in range(1, K+1)]\n",
    "    ll = np.sum([np.trace(inv(f_matrixes[i]) @ periodogram[i]) + np.log(det(f_matrixes[i])) for i in range(0, K)])\n",
    "    return (1/max_time) * ll.real"
   ]
  },
  {
   "cell_type": "markdown",
   "id": "4df8f5b8",
   "metadata": {},
   "source": [
    "# Estimation"
   ]
  },
  {
   "cell_type": "code",
   "execution_count": 6,
   "id": "2ba779ba",
   "metadata": {},
   "outputs": [
    {
     "name": "stdout",
     "output_type": "stream",
     "text": [
      "Spectral radius: 0.6403124237432849\n"
     ]
    }
   ],
   "source": [
    "mu = np.array([[1.0],\n",
    "               [1.0]])\n",
    "\n",
    "alpha = np.array([[0.5, 0.0],\n",
    "                  [0.4, 0.0]])\n",
    "\n",
    "beta = np.array([[1.0],\n",
    "                 [1.3]])\n",
    "\n",
    "noise = 0.5\n",
    "\n",
    "print(\"Spectral radius:\", norm(alpha, ord=2))"
   ]
  },
  {
   "cell_type": "code",
   "execution_count": null,
   "id": "13655143",
   "metadata": {},
   "outputs": [
    {
     "name": "stdout",
     "output_type": "stream",
     "text": [
      "|--------------------------------------------------|\n",
      "|------------------"
     ]
    }
   ],
   "source": [
    "from multiprocess import Pool, cpu_count\n",
    "\n",
    "# Reduced model\n",
    "max_time = 3000\n",
    "repetitions = 50\n",
    "# estimations_max = np.zeros((repetitions, 5))\n",
    "\n",
    "\n",
    "bounds = [(1e-16, None), (1e-16, None), (1e-16, 1-1e-16), (1e-16, 1-1e-16), \n",
    "          (1e-16, None), (1e-16, None), (1e-16, None)]\n",
    "\n",
    "dim = 2\n",
    "\n",
    "def job(it):\n",
    "    np.random.seed(it)\n",
    "    hp = multivariate_exponential_hawkes(mu, alpha * beta, beta, max_time=max_time)\n",
    "    hp.simulate()\n",
    "    hp_times = hp.timestamps\n",
    "\n",
    "    pp = multivariate_exponential_hawkes(noise * np.ones((2,1)), 0*alpha, beta, max_time=max_time)\n",
    "    pp.simulate()\n",
    "    pp_times = pp.timestamps\n",
    "\n",
    "    idx = np.argsort(pp_times[1:-1] + hp_times, axis=0)[:, 0]\n",
    "    parasited_times = np.array(pp_times[1:-1] + hp_times)[idx]\n",
    "    K = int(parasited_times.shape[0])\n",
    "    init = np.random.rand(7) + np.r_[.5, .5, 0., 0., .5, .5, .5]\n",
    "    \n",
    "    periodogram = [multivariate_periodogram(j/max_time, parasited_times) for j in range(1, K+1)]\n",
    "    \n",
    "    start_time = time.time()\n",
    "    res = minimize(spectral_multivariate_noised_ll_column,\n",
    "                   init, tol=1e-16,\n",
    "                   method=\"L-BFGS-B\", jac=None,\n",
    "                   args=(periodogram, K, max_time),\n",
    "                   bounds=bounds, options={\"disp\":False})\n",
    "    end_time = time.time()\n",
    "    \n",
    "    print('-', end='')\n",
    "    # print(res.x)\n",
    "\n",
    "    return res.x\n",
    "print('|'+'-'*repetitions+'|')\n",
    "print('|', end='')\n",
    "with Pool(4) as p:\n",
    "    estimations_max = np.array(p.map(job, range(repetitions)))\n",
    "print(estimations_max)"
   ]
  },
  {
   "cell_type": "code",
   "execution_count": null,
   "id": "4b0011f6",
   "metadata": {
    "scrolled": true
   },
   "outputs": [],
   "source": [
    "# Full model\n",
    "max_time = 3000\n",
    "repetitions = 50\n",
    "# estimations_max = np.zeros((repetitions, 5))\n",
    "\n",
    "\n",
    "bounds = [(1e-16, None), (1e-16, None), (1e-16, 1-1e-16), (1e-16, 1-1e-16), (1e-16, 1-1e-16), (1e-16, 1-1e-16), \n",
    "          (1e-16, None), (1e-16, None), (1e-16, None)]\n",
    "\n",
    "dim = 2\n",
    "\n",
    "def job(it):\n",
    "    np.random.seed(it)\n",
    "    hp = multivariate_exponential_hawkes(mu, alpha * beta, beta, max_time=max_time)\n",
    "    hp.simulate()\n",
    "    hp_times = hp.timestamps\n",
    "\n",
    "    pp = multivariate_exponential_hawkes(noise * np.ones((2,1)), 0*alpha, beta, max_time=max_time)\n",
    "    pp.simulate()\n",
    "    pp_times = pp.timestamps\n",
    "\n",
    "    idx = np.argsort(pp_times[1:-1] + hp_times, axis=0)[:, 0]\n",
    "    parasited_times = np.array(pp_times[1:-1] + hp_times)[idx]\n",
    "    K = int(parasited_times.shape[0])\n",
    "    init = np.random.rand(9)/2 + np.r_[.75, .75, 0., 0., 0., 0., .75, .75, .75]\n",
    "    \n",
    "    periodogram = [multivariate_periodogram(j/max_time, parasited_times) for j in range(1, K+1)]\n",
    "    \n",
    "    start_time = time.time()\n",
    "    res = minimize(spectral_multivariate_noised_ll,\n",
    "                   init, tol=1e-16,\n",
    "                   method=\"L-BFGS-B\", jac=None,\n",
    "                   args=(periodogram, K, max_time),\n",
    "                   bounds=bounds, options={\"disp\":False})\n",
    "    end_time = time.time()\n",
    "    \n",
    "    print('-', end='')\n",
    "    # print(res.x)\n",
    "\n",
    "    return res.x\n",
    "print('|'+'-'*repetitions+'|')\n",
    "print('|', end='')\n",
    "with Pool(cpu_count()-1) as p:\n",
    "    estimations = np.array(p.map(job, range(repetitions)))\n",
    "print('|\\n Done')\n",
    "#print(estimations)"
   ]
  },
  {
   "cell_type": "code",
   "execution_count": null,
   "id": "2d142f16",
   "metadata": {},
   "outputs": [],
   "source": [
    "import pickle\n",
    "explanation = \"Estimations for Scenario 1 (Column).\"\n",
    "explanation += \" First is explanation, second is estimations in reduced model,\"\n",
    "explanation += \" third is estimations in full model.\"\n",
    "explanation += \" Dimensions (repetitions, parameters).\"\n",
    "explanation\n",
    "toSave = (explanation, estimations_max, estimations)"
   ]
  },
  {
   "cell_type": "code",
   "execution_count": null,
   "id": "4a0459a9",
   "metadata": {},
   "outputs": [],
   "source": [
    "with open('estimationsColumnRevised2902N.pkl', 'wb') as file:\n",
    "    pickle.dump(toSave, file)"
   ]
  },
  {
   "cell_type": "markdown",
   "id": "a9a43a5e",
   "metadata": {},
   "source": [
    "multivariate_spectral_noised_column(0, (mu, alpha[:, 0], beta, noise))"
   ]
  },
  {
   "cell_type": "markdown",
   "id": "3933667e",
   "metadata": {},
   "source": [
    "spectral_multivariate_noised_ll_column([1.0,1.0,0.5,0.2,1.0,1.3,0.4], [np.ones((2,2))], 1, 100)"
   ]
  },
  {
   "cell_type": "code",
   "execution_count": 6,
   "id": "b80eaf01",
   "metadata": {},
   "outputs": [
    {
     "name": "stdout",
     "output_type": "stream",
     "text": [
      "3305\n"
     ]
    }
   ],
   "source": [
    "max_time = 1000\n",
    "np.random.seed(3392)#2000, 18, nlog n ? 5000, 389, 3839\n",
    "hp = multivariate_exponential_hawkes(mu, alpha * beta, beta, max_time=max_time)\n",
    "hp.simulate()\n",
    "hp_times = hp.timestamps\n",
    "K = np.sum(hp.count)\n",
    "print(K)\n"
   ]
  },
  {
   "cell_type": "code",
   "execution_count": 7,
   "id": "827d813d",
   "metadata": {},
   "outputs": [
    {
     "data": {
      "image/png": "[encoded data removed]",
      "text/plain": [
       "<Figure size 864x864 with 4 Axes>"
      ]
     },
     "metadata": {},
     "output_type": "display_data"
    }
   ],
   "source": [
    "fig, ax = plt.subplots(2,2, figsize=(12,12))\n",
    "hp.plot_intensity(ax=ax, where=100)"
   ]
  },
  {
   "cell_type": "code",
   "execution_count": 8,
   "id": "070bffbb",
   "metadata": {},
   "outputs": [],
   "source": [
    "noise = 0.5\n",
    "pp = multivariate_exponential_hawkes(noise * np.ones((2,1)), 0*alpha, beta, max_time=max_time)\n",
    "pp.simulate()\n",
    "pp_times = pp.timestamps"
   ]
  },
  {
   "cell_type": "code",
   "execution_count": 9,
   "id": "25b469c2",
   "metadata": {
    "scrolled": true
   },
   "outputs": [
    {
     "data": {
      "image/png": "[encoded data removed]",
      "text/plain": [
       "<Figure size 864x864 with 4 Axes>"
      ]
     },
     "metadata": {},
     "output_type": "display_data"
    }
   ],
   "source": [
    "fig, ax = plt.subplots(2,2, figsize=(12,12))\n",
    "pp.plot_intensity(ax=ax, where=50)"
   ]
  },
  {
   "cell_type": "code",
   "execution_count": 10,
   "id": "2a1e907d",
   "metadata": {},
   "outputs": [
    {
     "name": "stdout",
     "output_type": "stream",
     "text": [
      "2134\n",
      "11.60331106185913\n"
     ]
    }
   ],
   "source": [
    "idx = np.argsort(pp_times[1:-1] + hp_times, axis=0)[:, 0]\n",
    "parasited_times = np.array(pp_times[1:-1] + hp_times)[idx]\n",
    "K = int(parasited_times.shape[0]/2)\n",
    "#K = int(K * np.log(K))\n",
    "print(K)\n",
    "start_time = time.time()\n",
    "periodogram = [multivariate_periodogram(j/max_time, parasited_times) for j in range(1, K+1)]\n",
    "end_time = time.time()\n",
    "print(end_time - start_time)\n"
   ]
  },
  {
   "cell_type": "code",
   "execution_count": 23,
   "id": "70348dca",
   "metadata": {
    "scrolled": true
   },
   "outputs": [
    {
     "name": "stdout",
     "output_type": "stream",
     "text": [
      "Done with the estimation 24.05522108078003\n",
      "[0.49493553 0.36456583 0.60105812 0.18856701 1.50962781 1.39725903\n",
      " 1.19641487]\n"
     ]
    }
   ],
   "source": [
    "dim = 2\n",
    "bounds = [(1e-16, None) for i in range(dim)]\n",
    "bounds = bounds + [(1e-16, 1-1e-16) for i in range(dim)] + bounds + [(1e-16, None)]\n",
    "start_time = time.time()\n",
    "res = minimize(spectral_multivariate_noised_ll_column,\n",
    "               [0.1 for _ in range(7)], tol=1e-16,\n",
    "               method=\"L-BFGS-B\", jac=None,\n",
    "               args=([i for i in periodogram], K, max_time),\n",
    "               \n",
    "               \n",
    "               bounds=bounds, options={\"disp\":False})\n",
    "end_time = time.time()\n",
    "print(\"Done with the estimation\", end_time - start_time)\n",
    "print(res.x) "
   ]
  },
  {
   "cell_type": "code",
   "execution_count": 72,
   "id": "0694df30",
   "metadata": {},
   "outputs": [
    {
     "data": {
      "text/plain": [
       "(array([[1.],\n",
       "        [1.]]),\n",
       " array([[0.5, 0. ],\n",
       "        [0.2, 0. ]]),\n",
       " array([[1. ],\n",
       "        [1.3]]),\n",
       " 0.4,\n",
       " array([1.20328023, 1.2858807 ]),\n",
       " array([[0.47426681],\n",
       "        [0.20310538]]),\n",
       " array([0.95070197, 1.3514292 ]),\n",
       " 0.01)"
      ]
     },
     "execution_count": 72,
     "metadata": {},
     "output_type": "execute_result"
    }
   ],
   "source": [
    "mu, alpha, beta, noise, res.x[0:dim], res.x[dim:dim+2].reshape((dim,1)), res.x[-3:-1], res.x[-1]"
   ]
  },
  {
   "cell_type": "code",
   "execution_count": 19,
   "id": "ee8142b1",
   "metadata": {},
   "outputs": [
    {
     "data": {
      "text/plain": [
       "(1.6913503942924693, 1.9365610185444875)"
      ]
     },
     "execution_count": 19,
     "metadata": {},
     "output_type": "execute_result"
    }
   ],
   "source": [
    "res.x[0] + res.x[-1], res2.x[0] + res2.x[-1]"
   ]
  },
  {
   "cell_type": "code",
   "execution_count": 24,
   "id": "84a1597e",
   "metadata": {},
   "outputs": [
    {
     "name": "stdout",
     "output_type": "stream",
     "text": [
      "Done with the estimation 43.57289695739746\n",
      "[2.12681529e-01 1.00000000e-16 6.94802744e-01 1.16360399e-01\n",
      " 1.91942665e+00 4.14434896e+00 1.72972831e+00]\n"
     ]
    }
   ],
   "source": [
    "start_time = time.time()\n",
    "res2 = minimize(spectral_multivariate_noised_ll_column,\n",
    "               [1.0 for _ in range(dim)] + [0.3 for _ in range(dim)] + [1.0 for _ in range(dim+1)], \n",
    "               tol=1e-16,\n",
    "               method=\"L-BFGS-B\", jac=None,\n",
    "               args=([i.T for i in periodogram], K, max_time),\n",
    "               bounds=bounds, options={\"disp\":False})\n",
    "end_time = time.time()\n",
    "print(\"Done with the estimation\", end_time - start_time)\n",
    "print(res2.x) "
   ]
  },
  {
   "cell_type": "code",
   "execution_count": 25,
   "id": "cee07cb5",
   "metadata": {},
   "outputs": [
    {
     "name": "stdout",
     "output_type": "stream",
     "text": [
      "Done with the estimation 105.95344805717468\n",
      "[5.06459228e-01 3.44186214e-01 5.98648768e-01 1.00000000e-16\n",
      " 1.70832628e-01 7.33252302e-02 1.49558837e+00 1.57205208e+00\n",
      " 1.17540888e+00]\n"
     ]
    }
   ],
   "source": [
    "dim = 2\n",
    "bounds = [(1e-16, None) for i in range(dim)]\n",
    "bounds = bounds + [(1e-16, 1-1e-16) for i in range(dim*dim)] + bounds + [(1e-16, None)]\n",
    "start_time = time.time()\n",
    "res = minimize(spectral_multivariate_noised_ll,\n",
    "               [0.1 for _ in range(9)], tol=1e-16,\n",
    "               method=\"L-BFGS-B\", jac=None,\n",
    "               args=([i for i in periodogram], K, max_time),\n",
    "               \n",
    "               \n",
    "               bounds=bounds, options={\"disp\":False})\n",
    "end_time = time.time()\n",
    "print(\"Done with the estimation\", end_time - start_time)\n",
    "print(res.x) "
   ]
  },
  {
   "cell_type": "code",
   "execution_count": 26,
   "id": "a0a5781a",
   "metadata": {},
   "outputs": [
    {
     "name": "stdout",
     "output_type": "stream",
     "text": [
      "Done with the estimation 80.55254316329956\n",
      "[5.06444758e-01 3.44163316e-01 5.98651882e-01 1.00000000e-16\n",
      " 1.70832458e-01 7.33300544e-02 1.49560347e+00 1.57208492e+00\n",
      " 1.17543443e+00]\n"
     ]
    }
   ],
   "source": [
    "dim = 2\n",
    "bounds = [(1e-16, None) for i in range(dim)]\n",
    "bounds = bounds + [(1e-16, 1-1e-16) for i in range(dim*dim)] + bounds + [(1e-16, None)]\n",
    "start_time = time.time()\n",
    "res2 = minimize(spectral_multivariate_noised_ll,\n",
    "               [1.0 for _ in range(dim)] + [0.3 for _ in range(dim*dim)] + [1.0 for _ in range(dim+1)], tol=1e-16,\n",
    "               method=\"L-BFGS-B\", jac=None,\n",
    "               args=([i for i in periodogram], K, max_time),\n",
    "               \n",
    "               \n",
    "               bounds=bounds, options={\"disp\":False})\n",
    "end_time = time.time()\n",
    "print(\"Done with the estimation\", end_time - start_time)\n",
    "print(res2.x) "
   ]
  },
  {
   "cell_type": "markdown",
   "id": "08b9a454",
   "metadata": {},
   "source": [
    "# Repetitions"
   ]
  },
  {
   "cell_type": "code",
   "execution_count": 10,
   "id": "8054bc1f",
   "metadata": {},
   "outputs": [
    {
     "name": "stdout",
     "output_type": "stream",
     "text": [
      "Estimation # 1\n",
      "Time of first estimation:  20.30294895172119\n",
      "Estimation # 2\n",
      "Estimation # 3\n",
      "Estimation # 4\n",
      "Estimation # 5\n",
      "Estimation # 6\n",
      "Estimation # 7\n",
      "Estimation # 8\n",
      "Estimation # 9\n",
      "Estimation # 10\n",
      "Estimation # 11\n",
      "Estimation # 12\n",
      "Estimation # 13\n",
      "Estimation # 14\n",
      "Estimation # 15\n",
      "Estimation # 16\n",
      "Estimation # 17\n",
      "Estimation # 18\n",
      "Estimation # 19\n",
      "Estimation # 20\n",
      "Estimation # 21\n",
      "Estimation # 22\n",
      "Estimation # 23\n",
      "Estimation # 24\n",
      "Estimation # 25\n",
      "Estimation # 26\n",
      "Estimation # 27\n",
      "Estimation # 28\n",
      "Estimation # 29\n",
      "Estimation # 30\n",
      "Estimation # 31\n",
      "Estimation # 32\n",
      "Estimation # 33\n",
      "Estimation # 34\n",
      "Estimation # 35\n",
      "Estimation # 36\n",
      "Estimation # 37\n",
      "Estimation # 38\n",
      "Estimation # 39\n",
      "Estimation # 40\n",
      "Estimation # 41\n",
      "Estimation # 42\n",
      "Estimation # 43\n",
      "Estimation # 44\n",
      "Estimation # 45\n",
      "Estimation # 46\n",
      "Estimation # 47\n",
      "Estimation # 48\n",
      "Estimation # 49\n",
      "Estimation # 50\n"
     ]
    }
   ],
   "source": [
    "max_time = 1000\n",
    "repetitions = 50\n",
    "estimations_max = np.zeros((repetitions, 7))\n",
    "dim = 2\n",
    "for idx_repet in range(repetitions):\n",
    "    np.random.seed(idx_repet)\n",
    "    hp = multivariate_exponential_hawkes(mu, alpha * beta, beta, max_time=max_time)\n",
    "    hp.simulate()\n",
    "    hp_times = hp.timestamps\n",
    "    \n",
    "    pp = multivariate_exponential_hawkes(noise * np.ones((2,1)), 0*alpha, beta, max_time=max_time)\n",
    "    pp.simulate()\n",
    "    pp_times = pp.timestamps\n",
    "    \n",
    "    idx = np.argsort(pp_times[1:-1] + hp_times, axis=0)[:, 0]\n",
    "    parasited_times = np.array(pp_times[1:-1] + hp_times)[idx]\n",
    "    K = int(parasited_times.shape[0]/2)\n",
    "    periodogram = [multivariate_periodogram(j/max_time, parasited_times) for j in range(1, K+1)]\n",
    "\n",
    "    bounds = [(1e-16, None) for i in range(dim)]\n",
    "    bounds = bounds + [(1e-16, 1-1e-16) for i in range(dim)] + bounds + [(1e-16, None)]\n",
    "    \n",
    "    start_time = time.time()\n",
    "    res = minimize(spectral_multivariate_noised_ll_column,\n",
    "                   [0.1 for _ in range(7)], tol=1e-16,\n",
    "                   method=\"L-BFGS-B\", jac=None,\n",
    "                   args=([i for i in periodogram], K, max_time),\n",
    "\n",
    "\n",
    "                   bounds=bounds, options={\"disp\":False})\n",
    "    end_time = time.time()\n",
    "    estimations_max[idx_repet, :] = res.x\n",
    "    print(\"Estimation #\", str(idx_repet + 1))\n",
    "    if idx_repet == 0:\n",
    "        print(\"Time of first estimation: \", end_time - start_time)"
   ]
  },
  {
   "cell_type": "code",
   "execution_count": 88,
   "id": "7334016a",
   "metadata": {},
   "outputs": [
    {
     "data": {
      "text/plain": [
       "(array([[1.],\n",
       "        [1.]]),\n",
       " array([[0.5, 0. ],\n",
       "        [0.2, 0. ]]),\n",
       " array([[1. ],\n",
       "        [1.3]]),\n",
       " 0.4,\n",
       " array([0.96808201, 0.89224265]),\n",
       " array([[0.50949963],\n",
       "        [0.21066552]]),\n",
       " array([1.06611536, 1.4645285 ]),\n",
       " 0.4928495119403796)"
      ]
     },
     "execution_count": 88,
     "metadata": {},
     "output_type": "execute_result"
    }
   ],
   "source": [
    "mu, alpha, beta, noise, estimations[0:dim], estimations[dim:dim+2].reshape((dim,1)), estimations[-3:-1], estimations[-1]"
   ]
  },
  {
   "cell_type": "code",
   "execution_count": 86,
   "id": "f328da51",
   "metadata": {},
   "outputs": [
    {
     "data": {
      "text/plain": [
       "(array([[1.],\n",
       "        [1.]]),\n",
       " array([[0.5, 0. ],\n",
       "        [0.2, 0. ]]),\n",
       " array([[1. ],\n",
       "        [1.3]]),\n",
       " 0.4,\n",
       " array([1.18595346, 1.18801052]),\n",
       " array([[0.47136379, 0.0143373 ],\n",
       "        [0.19386241, 0.00634105]]),\n",
       " array([0.99078896, 1.35262132]),\n",
       " 0.14617684262250152)"
      ]
     },
     "execution_count": 86,
     "metadata": {},
     "output_type": "execute_result"
    }
   ],
   "source": [
    "mu, alpha, beta, noise, estimations[0:dim], estimations[dim:-dim-1].reshape((dim,dim)), estimations[-dim-1:-1], estimations[-1]"
   ]
  },
  {
   "cell_type": "code",
   "execution_count": 11,
   "id": "93645772",
   "metadata": {},
   "outputs": [
    {
     "name": "stdout",
     "output_type": "stream",
     "text": [
      "Estimation # 1\n",
      "Time of first estimation:  85.70398902893066\n",
      "Estimation # 2\n",
      "Estimation # 3\n",
      "Estimation # 4\n",
      "Estimation # 5\n",
      "Estimation # 6\n",
      "Estimation # 7\n",
      "Estimation # 8\n",
      "Estimation # 9\n",
      "Estimation # 10\n",
      "Estimation # 11\n",
      "Estimation # 12\n",
      "Estimation # 13\n",
      "Estimation # 14\n",
      "Estimation # 15\n",
      "Estimation # 16\n",
      "Estimation # 17\n",
      "Estimation # 18\n",
      "Estimation # 19\n",
      "Estimation # 20\n",
      "Estimation # 21\n",
      "Estimation # 22\n",
      "Estimation # 23\n",
      "Estimation # 24\n",
      "Estimation # 25\n",
      "Estimation # 26\n",
      "Estimation # 27\n",
      "Estimation # 28\n",
      "Estimation # 29\n",
      "Estimation # 30\n",
      "Estimation # 31\n",
      "Estimation # 32\n",
      "Estimation # 33\n",
      "Estimation # 34\n",
      "Estimation # 35\n",
      "Estimation # 36\n",
      "Estimation # 37\n",
      "Estimation # 38\n",
      "Estimation # 39\n",
      "Estimation # 40\n",
      "Estimation # 41\n",
      "Estimation # 42\n",
      "Estimation # 43\n",
      "Estimation # 44\n",
      "Estimation # 45\n",
      "Estimation # 46\n",
      "Estimation # 47\n",
      "Estimation # 48\n",
      "Estimation # 49\n",
      "Estimation # 50\n"
     ]
    }
   ],
   "source": [
    "max_time = 1000\n",
    "repetitions = 50\n",
    "estimations = np.zeros((repetitions,9))\n",
    "for idx_repet in range(repetitions):\n",
    "    np.random.seed(idx_repet)\n",
    "    hp = multivariate_exponential_hawkes(mu, alpha * beta, beta, max_time=max_time)\n",
    "    hp.simulate()\n",
    "    hp_times = hp.timestamps\n",
    "    \n",
    "    pp = multivariate_exponential_hawkes(noise * np.ones((2,1)), 0*alpha, beta, max_time=max_time)\n",
    "    pp.simulate()\n",
    "    pp_times = pp.timestamps\n",
    "    \n",
    "    idx = np.argsort(pp_times[1:-1] + hp_times, axis=0)[:, 0]\n",
    "    parasited_times = np.array(pp_times[1:-1] + hp_times)[idx]\n",
    "    K = int(parasited_times.shape[0]/2)\n",
    "    periodogram = [multivariate_periodogram(j/max_time, parasited_times) for j in range(1, K+1)]\n",
    "\n",
    "    bounds = [(1e-16, None) for i in range(dim)]\n",
    "    bounds = bounds + [(1e-16, 1-1e-16) for i in range(dim**2)] + bounds + [(1e-16, None)]\n",
    "    start_time = time.time()\n",
    "    res = minimize(spectral_multivariate_noised_ll,\n",
    "                   [0.1 for _ in range(dim * (2 + dim) + 1)], tol=1e-16,\n",
    "                   method=\"L-BFGS-B\", jac=None,\n",
    "                   args=([i for i in periodogram], K, max_time),\n",
    "\n",
    "\n",
    "                   bounds=bounds, options={\"disp\":False})\n",
    "    end_time = time.time()\n",
    "    estimations[idx_repet, :] = res.x\n",
    "    print(\"Estimation #\", str(idx_repet + 1))\n",
    "    if idx_repet == 0:\n",
    "        print(\"Time of first estimation: \", end_time - start_time)\n"
   ]
  },
  {
   "cell_type": "code",
   "execution_count": 12,
   "id": "103a47af",
   "metadata": {},
   "outputs": [
    {
     "data": {
      "text/plain": [
       "(array([1.2128519 , 1.25143399, 0.46994857, 0.02457328, 0.18874972,\n",
       "        0.02455752, 0.9681169 , 1.53518469, 0.16559934]),\n",
       " array([1.00629463, 0.97792366, 0.51172743, 0.2115396 , 1.04034531,\n",
       "        1.42926021, 0.51111408]))"
      ]
     },
     "execution_count": 12,
     "metadata": {},
     "output_type": "execute_result"
    }
   ],
   "source": [
    "np.mean(estimations, axis=0), np.mean(estimations_max, axis=0)"
   ]
  },
  {
   "cell_type": "code",
   "execution_count": 8,
   "id": "7011a62f",
   "metadata": {},
   "outputs": [
    {
     "data": {
      "text/plain": [
       "(array([1. , 1. , 0.5, 0. , 0.4, 0. , 1. , 1.3, 0.5]),\n",
       " array([1. , 1. , 0.5, 0.4, 1. , 1.3, 0.5]))"
      ]
     },
     "execution_count": 8,
     "metadata": {},
     "output_type": "execute_result"
    }
   ],
   "source": [
    "theta = np.concatenate((mu.ravel(), alpha.ravel(), beta.ravel(), np.array([noise])))\n",
    "theta_max = np.concatenate((mu.ravel(), (alpha[alpha > 0.0]).ravel(), beta.ravel(), np.array([noise])))\n",
    "theta, theta_max"
   ]
  },
  {
   "cell_type": "code",
   "execution_count": 239,
   "id": "590186f6",
   "metadata": {},
   "outputs": [
    {
     "name": "stdout",
     "output_type": "stream",
     "text": [
      "[0.40442765578911943, 1e-16, 0.3125844465696115, 1e-16]\n",
      "[0.4350146095447215, 0.3187662478359118]\n"
     ]
    },
    {
     "data": {
      "image/png": "[encoded data removed]",
      "text/plain": [
       "<Figure size 864x576 with 2 Axes>"
      ]
     },
     "metadata": {},
     "output_type": "display_data"
    }
   ],
   "source": [
    "fig, ax = plt.subplots(2, 1, figsize=(12,8))\n",
    "_ = ax[0].boxplot(estimations, showmeans=True)\n",
    "_ = ax[0].scatter(range(1, 10), theta)\n",
    "_ = ax[1].boxplot(estimations_max, showmeans=True)\n",
    "_ = ax[1].scatter(range(1, 8), theta_max)\n",
    "ax[0].set_ylim([-0.1, 4])\n",
    "ax[1].set_ylim([-0.1, 4])\n",
    "print([np.quantile(estimations[:, i], q=0.05) for i in range(dim, dim*dim + dim)])\n",
    "print([np.quantile(estimations_max[:, i], q=0.05) for i in range(dim, dim*dim + dim-2)])\n"
   ]
  },
  {
   "cell_type": "code",
   "execution_count": 15,
   "id": "269b0081",
   "metadata": {},
   "outputs": [
    {
     "name": "stdout",
     "output_type": "stream",
     "text": [
      "[0.03985406 0.04376459 0.0178792  0.01782332 0.0311991  0.03620233\n",
      " 0.14166517]\n"
     ]
    },
    {
     "data": {
      "image/png": "[encoded data removed]",
      "text/plain": [
       "<Figure size 864x576 with 1 Axes>"
      ]
     },
     "metadata": {},
     "output_type": "display_data"
    }
   ],
   "source": [
    "parameters = [r\"$\\mu_1$\", r\"$\\mu_2$\", r\"$\\alpha_{11}$\", r\"$\\alpha_{21}$\", r\"$\\beta_1$\", r\"$\\beta_2$\", r\"$\\lambda_0$\"]\n",
    "fig, ax = plt.subplots(1, 1, figsize=(12,8))\n",
    "_ = ax.boxplot(estimations_max, showmeans=True)\n",
    "_ = ax.scatter(range(1, 8), np.mean(estimations_max, axis=0))\n",
    "#ax.set_ylim([-0.1, 4])\n",
    "ax.set_xticklabels(parameters)\n",
    "print(np.abs(np.mean(estimations_max, axis=0) - theta_max)/theta_max)"
   ]
  },
  {
   "cell_type": "code",
   "execution_count": 60,
   "id": "d63456cf",
   "metadata": {},
   "outputs": [
    {
     "name": "stdout",
     "output_type": "stream",
     "text": [
      "[0.00629463 0.02207634 0.02345486 0.05769799 0.04034531 0.09943093\n",
      " 0.02222815]\n",
      "[0.14194127 0.14173911 0.00096624 0.03082305 0.0106766  0.02072991\n",
      " 0.49282633]\n"
     ]
    },
    {
     "data": {
      "image/png": "[encoded data removed]",
      "text/plain": [
       "<Figure size 864x576 with 2 Axes>"
      ]
     },
     "metadata": {},
     "output_type": "display_data"
    }
   ],
   "source": [
    "parameters = [r\"$\\mu_1$\", r\"$\\mu_2$\", r\"$\\alpha_{11}$\", r\"$\\alpha_{21}$\", r\"$\\beta_1$\", r\"$\\beta_2$\", r\"$\\lambda_0$\"]\n",
    "fig, ax = plt.subplots(2, 1, figsize=(12,8), sharex=True)\n",
    "_ = ax[0].boxplot(np.abs(estimations_max - theta_max)/theta_max, showmeans=True)\n",
    "_ = ax[0].scatter(range(1, 8), np.abs(np.mean(estimations_max, axis=0) - theta_max)/theta_max)\n",
    "_ = ax[1].boxplot(estimations_max, showmeans=True)\n",
    "_ = ax[1].scatter(range(1, 8), theta_max)\n",
    "#ax.set_ylim([-0.1, 4])\n",
    "ax[0].set_xticklabels([])\n",
    "ax[1].set_xticks(range(1, 8))\n",
    "ax[1].set_xticklabels(parameters)\n",
    "print(np.abs(np.mean(estimations_max, axis=0) - theta_max)/theta_max)\n",
    "print(np.abs(np.median(estimations_max, axis=0) - theta_max)/theta_max)"
   ]
  },
  {
   "cell_type": "code",
   "execution_count": null,
   "id": "b6c6a1f5",
   "metadata": {},
   "outputs": [],
   "source": []
  },
  {
   "cell_type": "code",
   "execution_count": 44,
   "id": "5e5df32e",
   "metadata": {},
   "outputs": [
    {
     "data": {
      "text/plain": [
       "27"
      ]
     },
     "execution_count": 44,
     "metadata": {},
     "output_type": "execute_result"
    }
   ],
   "source": [
    "idx_nonnull = estimations_max[:, -1] > 1e-16\n",
    "np.sum(idx_nonnull)"
   ]
  },
  {
   "cell_type": "code",
   "execution_count": 45,
   "id": "51162f2a",
   "metadata": {},
   "outputs": [
    {
     "name": "stdout",
     "output_type": "stream",
     "text": [
      "[0.27775126 0.43200222 0.10143944 0.21425745 0.15121912 0.18243398\n",
      " 0.8930151 ]\n"
     ]
    },
    {
     "data": {
      "image/png": "[encoded data removed]",
      "text/plain": [
       "<Figure size 864x576 with 1 Axes>"
      ]
     },
     "metadata": {},
     "output_type": "display_data"
    }
   ],
   "source": [
    "fig, ax = plt.subplots(1, 1, figsize=(12,8))\n",
    "_ = ax.boxplot(np.abs(estimations_max[idx_nonnull, :] - theta_max)/theta_max, showmeans=True)\n",
    "#_ = ax.scatter(range(1, 8), theta_max)\n",
    "#ax.set_ylim([-0.1, 4])\n",
    "print(np.abs(np.mean(estimations_max[idx_nonnull, :], axis=0) - theta_max)/theta_max)"
   ]
  },
  {
   "cell_type": "code",
   "execution_count": 30,
   "id": "de7f37e6",
   "metadata": {},
   "outputs": [
    {
     "data": {
      "text/plain": [
       "(50, 9)"
      ]
     },
     "execution_count": 30,
     "metadata": {},
     "output_type": "execute_result"
    }
   ],
   "source": [
    "estimations.shape"
   ]
  },
  {
   "cell_type": "code",
   "execution_count": 197,
   "id": "f799a609",
   "metadata": {},
   "outputs": [
    {
     "data": {
      "text/plain": [
       "(0.019413617914716904, 1e-16)"
      ]
     },
     "execution_count": 197,
     "metadata": {},
     "output_type": "execute_result"
    }
   ],
   "source": [
    "np.mean(estimations[:, 3]), np.quantile(estimations[:, -1], q=0.05)"
   ]
  },
  {
   "cell_type": "code",
   "execution_count": 23,
   "id": "5105943e",
   "metadata": {},
   "outputs": [
    {
     "data": {
      "image/png": "[encoded data removed]",
      "text/plain": [
       "<Figure size 576x864 with 1 Axes>"
      ]
     },
     "metadata": {},
     "output_type": "display_data"
    }
   ],
   "source": [
    "boots = 5000\n",
    "emp_q = np.zeros((boots, ))\n",
    "for i in range(boots):\n",
    "    np.random.seed(i)\n",
    "    emp_q[i] = np.mean(np.random.choice(estimations[:, 3], size=50))\n",
    "fig, ax = plt.subplots(figsize=(8, 12))\n",
    "_ = ax.hist(emp_q)\n"
   ]
  },
  {
   "cell_type": "code",
   "execution_count": 96,
   "id": "6c3c2005",
   "metadata": {},
   "outputs": [
    {
     "data": {
      "text/plain": [
       "array([ True,  True,  True,  True,  True, False,  True,  True,  True,\n",
       "        True,  True,  True,  True,  True,  True, False,  True, False,\n",
       "       False,  True,  True, False,  True,  True,  True,  True, False,\n",
       "        True,  True,  True,  True,  True,  True,  True,  True,  True,\n",
       "       False,  True, False, False,  True, False, False,  True,  True,\n",
       "        True,  True,  True,  True,  True])"
      ]
     },
     "execution_count": 96,
     "metadata": {},
     "output_type": "execute_result"
    }
   ],
   "source": [
    "estimations[:, -1] < 2e-16"
   ]
  },
  {
   "cell_type": "code",
   "execution_count": 98,
   "id": "f1f4c2d5",
   "metadata": {},
   "outputs": [
    {
     "data": {
      "image/png": "[encoded data removed]",
      "text/plain": [
       "<Figure size 864x432 with 1 Axes>"
      ]
     },
     "metadata": {},
     "output_type": "display_data"
    }
   ],
   "source": [
    "fig, ax = plt.subplots(figsize=(12,6))\n",
    "_ = ax.boxplot(estimations[estimations[:, -1] < 2e-16, :])"
   ]
  },
  {
   "cell_type": "code",
   "execution_count": 101,
   "id": "ee0928e5",
   "metadata": {},
   "outputs": [
    {
     "data": {
      "image/png": "[encoded data removed]",
      "text/plain": [
       "<Figure size 864x432 with 1 Axes>"
      ]
     },
     "metadata": {},
     "output_type": "display_data"
    }
   ],
   "source": [
    "fig, ax = plt.subplots(figsize=(12,6))\n",
    "_ = ax.boxplot(np.array([[0,1],[3,2]]))"
   ]
  }
 ],
 "metadata": {
  "kernelspec": {
   "display_name": "Python 3 (ipykernel)",
   "language": "python",
   "name": "python3"
  },
  "language_info": {
   "codemirror_mode": {
    "name": "ipython",
    "version": 3
   },
   "file_extension": ".py",
   "mimetype": "text/x-python",
   "name": "python",
   "nbconvert_exporter": "python",
   "pygments_lexer": "ipython3",
   "version": "3.8.7"
  }
 },
 "nbformat": 4,
 "nbformat_minor": 5
}
