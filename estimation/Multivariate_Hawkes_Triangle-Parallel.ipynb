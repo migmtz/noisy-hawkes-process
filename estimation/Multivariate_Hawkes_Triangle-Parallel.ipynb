{
 "cells": [
  {
   "cell_type": "code",
   "execution_count": 2,
   "id": "52db1c04",
   "metadata": {},
   "outputs": [],
   "source": [
    "import numpy as np\n",
    "import matplotlib\n",
    "from matplotlib import pyplot as plt\n",
    "from matplotlib import cm\n",
    "from scipy import stats\n",
    "from collections import deque\n",
    "from scipy.optimize import minimize\n",
    "from scipy.linalg import norm, inv, det\n",
    "import time\n",
    "import seaborn as sns\n",
    "sns.set_theme()"
   ]
  },
  {
   "cell_type": "code",
   "execution_count": null,
   "id": "6f035d80",
   "metadata": {},
   "outputs": [],
   "source": [
    "def fill_square_matrix(K):\n",
    "    res = np.empty((K, K))\n",
    "    for i in range(K):\n",
    "        for j in range(K):\n",
    "            val = input(\"%s %s\" % (i + 1, j + 1))\n",
    "            res[i, j] = val\n",
    "    return res\n",
    "\n",
    "\n",
    "def fill_column_vector(K):\n",
    "    res = np.empty((K, 1))\n",
    "    for i in range(K):\n",
    "        val = input(\"%s 1\" % (i + 1))\n",
    "        res[i, 0] = val\n",
    "    return res\n",
    "\n",
    "\n",
    "class multivariate_exponential_hawkes(object):\n",
    "    \"\"\"\n",
    "    Multivariate Hawkes process with exponential kernel. No events nor initial conditions considered.\n",
    "    \"\"\"\n",
    "\n",
    "    def __init__(self, mu, alpha, beta, max_jumps=None, max_time=None):\n",
    "        \"\"\"\n",
    "\n",
    "        Parameters\n",
    "        ----------\n",
    "        mu : array_like\n",
    "            Baseline intensity vector. mu.shape[0] must coincide with shapes for alpha and beta.\n",
    "        alpha : array_like\n",
    "            Interaction factors matrix. Must be a square array with alpha.shape[0] coinciding with mu and beta.\n",
    "        beta : array_like\n",
    "            Decay factor matrix. Must be either an array. When corresponding to decay for each process i, it must\n",
    "            be of shape (number_of_process, 1), or a square array. beta.shape[0] must coincide with mu and alpha.\n",
    "        max_jumps : float, optional\n",
    "            Maximal number of jumps. The default is None.\n",
    "        max_time : float, optional\n",
    "            Maximal time horizon. The default is None.\n",
    "\n",
    "        Attributes\n",
    "        ----------\n",
    "        nb_processes : int\n",
    "            Number of dimensions.\n",
    "        timestamps : list of tuple (float, int)\n",
    "            List of simulated events and their marks.\n",
    "        intensity_jumps : array of float\n",
    "            Array containing all intensities at each jump. It includes the baseline intensities mu.\n",
    "        simulated : bool\n",
    "            Parameter that marks if a process has been already been simulated,\n",
    "            or if its event times have been initialized.\n",
    "\n",
    "        \"\"\"\n",
    "\n",
    "        # We must begin by verifying that the process is a point process. In other words, that the number of\n",
    "        # points in any bounded interval is a.s. finite. For this, we have to verify that the spectral radius of\n",
    "        # the matrix alpha/beta (term by term) is <1.\n",
    "\n",
    "        beta_radius = np.copy(beta)\n",
    "        beta_radius[beta_radius == 0] = 1\n",
    "        spectral_radius = np.max(np.abs(np.linalg.eig(np.abs(alpha) / beta_radius)[0]))\n",
    "\n",
    "        if spectral_radius >= 1:\n",
    "            # raise ValueError(\"Spectral radius is %s, which makes the process unstable.\" % (spectral_radius))\n",
    "            warnings.warn(\"Spectral radius is %s, which makes the process unstable.\" % (spectral_radius),RuntimeWarning)\n",
    "        self.mu = mu.reshape((alpha.shape[0], 1))\n",
    "        self.alpha = alpha\n",
    "        self.beta = beta\n",
    "        self.max_jumps = max_jumps\n",
    "        self.max_time = max_time\n",
    "\n",
    "        self.nb_processes = self.mu.shape[0]\n",
    "        self.count = np.zeros(self.nb_processes, dtype=int)\n",
    "\n",
    "        self.timestamps = [(0.0, 0)]\n",
    "        self.intensity_jumps = np.copy(mu)\n",
    "\n",
    "        self.simulated = False\n",
    "\n",
    "    def simulate(self):\n",
    "        \"\"\"\n",
    "        Auxiliary function to check if already simulated and, if not, which simulation to launch.\n",
    "\n",
    "        Simulation follows Ogata's adapted thinning algorithm. Upper bound obtained by the positive-part process.\n",
    "\n",
    "        Works with both self-exciting and self-regulating processes.\n",
    "\n",
    "        To launch simulation either self.max_jumps or self.max_time must be other than None, so the algorithm knows when to stop.\n",
    "        \"\"\"\n",
    "        if not self.simulated:\n",
    "            if self.max_jumps is not None and self.max_time is None:\n",
    "                self.simulate_jumps()\n",
    "            elif self.max_time is not None and self.max_jumps is None:\n",
    "                self.simulate_time()\n",
    "            else:\n",
    "                print(\"Either max_jumps or max_time must be given.\")\n",
    "            self.simulated = True\n",
    "\n",
    "        else:\n",
    "            print(\"Process already simulated\")\n",
    "\n",
    "    def simulate_jumps(self):\n",
    "        \"\"\"\n",
    "        Simulation is done until the maximal number of jumps (self.max_jumps) is attained.\n",
    "        \"\"\"\n",
    "        flag = 0\n",
    "        t = 0\n",
    "\n",
    "        auxiliary_alpha = np.where(self.alpha > 0, self.alpha, 0)\n",
    "        auxiliary_ij = np.zeros((self.nb_processes, self.nb_processes))\n",
    "        auxiliary_intensity = np.copy(self.mu)\n",
    "\n",
    "        ij_intensity = np.zeros((self.nb_processes, self.nb_processes))\n",
    "\n",
    "        while flag < self.max_jumps:\n",
    "\n",
    "            upper_intensity = np.sum(auxiliary_intensity)\n",
    "\n",
    "            previous_t = t\n",
    "            t += np.random.exponential(1 / upper_intensity)\n",
    "\n",
    "            # ij_intensity = np.multiply(ij_intensity, np.exp(-self.beta * (t - self.timestamps[-1][0])))\n",
    "            ij_intensity = np.multiply(ij_intensity, np.exp(-self.beta * (t - previous_t)))\n",
    "            candidate_intensities = self.mu + np.sum(ij_intensity, axis=1, keepdims=True)\n",
    "            pos_candidate = np.maximum(candidate_intensities, 0) / upper_intensity\n",
    "            type_event = np.random.multinomial(1, np.concatenate((pos_candidate.squeeze(), np.array([0.0])))).argmax()\n",
    "            if type_event < self.nb_processes:\n",
    "                self.timestamps += [(t, type_event + 1)]\n",
    "                ij_intensity[:, type_event] += self.alpha[:, type_event]\n",
    "                self.intensity_jumps = np.c_[\n",
    "                    self.intensity_jumps, self.mu + np.sum(ij_intensity, axis=1, keepdims=True)]\n",
    "\n",
    "                auxiliary_ij = np.multiply(auxiliary_ij, np.exp(-self.beta * (t - self.timestamps[-2][0])))\n",
    "                auxiliary_ij[:, type_event] += auxiliary_alpha[:, type_event]\n",
    "                auxiliary_intensity = self.mu + np.sum(auxiliary_ij, axis=1, keepdims=True)\n",
    "\n",
    "                flag += 1\n",
    "\n",
    "                self.count[type_event] += 1\n",
    "\n",
    "        self.max_time = self.timestamps[-1][0]\n",
    "        # Important to add the max_time for plotting and being consistent.\n",
    "        self.timestamps += [(self.max_time, 0)]\n",
    "\n",
    "    def simulate_time(self):\n",
    "        \"\"\"\n",
    "        Simulation is done for a window [0, T] (T = self.max_time) is attained.\n",
    "        \"\"\"\n",
    "        t = 0\n",
    "        flag = t < self.max_time\n",
    "\n",
    "        auxiliary_alpha = np.where(self.alpha > 0, self.alpha, 0)\n",
    "        auxiliary_ij = np.zeros((self.nb_processes, self.nb_processes))\n",
    "        auxiliary_intensity = np.copy(self.mu)\n",
    "\n",
    "        ij_intensity = np.zeros((self.nb_processes, self.nb_processes))\n",
    "\n",
    "        while flag:\n",
    "\n",
    "            upper_intensity = np.sum(auxiliary_intensity)\n",
    "\n",
    "            previous_t = t\n",
    "            t += np.random.exponential(1 / upper_intensity)\n",
    "\n",
    "            # ij_intensity = np.multiply(ij_intensity, np.exp(-self.beta * (t - self.timestamps[-1][0])))\n",
    "            ij_intensity = np.multiply(ij_intensity, np.exp(-self.beta * (t - previous_t)))\n",
    "            candidate_intensities = self.mu + np.sum(ij_intensity, axis=1, keepdims=True)\n",
    "            pos_candidate = np.maximum(candidate_intensities, 0) / upper_intensity\n",
    "            type_event = np.random.multinomial(1,\n",
    "                                               np.concatenate((pos_candidate.squeeze(), np.array([0.0])))).argmax()\n",
    "            flag = t < self.max_time\n",
    "            if type_event < self.nb_processes and flag:\n",
    "                self.timestamps += [(t, type_event + 1)]\n",
    "                ij_intensity[:, type_event] += self.alpha[:, type_event]\n",
    "                self.intensity_jumps = np.c_[\n",
    "                    self.intensity_jumps, self.mu + np.sum(ij_intensity, axis=1, keepdims=True)]\n",
    "\n",
    "                auxiliary_ij = np.multiply(auxiliary_ij, np.exp(-self.beta * (t - self.timestamps[-2][0])))\n",
    "                auxiliary_ij[:, type_event] += auxiliary_alpha[:, type_event]\n",
    "                auxiliary_intensity = self.mu + np.sum(auxiliary_ij, axis=1, keepdims=True)\n",
    "\n",
    "                self.count[type_event] += 1\n",
    "\n",
    "        self.timestamps += [(self.max_time, 0)]\n",
    "\n",
    "    def plot_intensity(self, ax=None, plot_N=True, where=10):\n",
    "        \"\"\"\n",
    "        Plot intensity function. If plot_N is True, plots also step functions N^i([0,t]).\n",
    "        The parameter ax allows to plot the intensity function in a previously created plot.\n",
    "\n",
    "        Parameters\n",
    "        ----------\n",
    "        ax : array of Axes, optional.\n",
    "            If None, method will generate own figure.\n",
    "            Otherwise, will use given axes. Must be array of shape (2,K) if plot_N = True, or (K,) if plot_N = False\n",
    "        plot_N : bool, optional.\n",
    "            Whether we plot the step function N^i or not.\n",
    "        \"\"\"\n",
    "\n",
    "        if not self.simulated:\n",
    "            print(\"Simulate first\")\n",
    "\n",
    "        else:\n",
    "            plt.rcParams['axes.grid'] = True\n",
    "            if plot_N:\n",
    "                jumps_plot = [[0] for i in range(self.nb_processes)]\n",
    "                if ax is None:\n",
    "                    fig, ax = plt.subplots(2, self.nb_processes, sharex=True)\n",
    "                    ax1 = ax[0, :]\n",
    "                    ax2 = ax[1, :]\n",
    "                elif isinstance(ax[0,0], matplotlib.axes.Axes):\n",
    "                    ax1 = ax[0, :]\n",
    "                    ax2 = ax[1, :]\n",
    "                else:\n",
    "                    return \"ax is the wrong shape. It should be (2, number of processes+1)\"\n",
    "            else:\n",
    "                if ax is None:\n",
    "                    fig, ax1 = plt.subplots(1, self.nb_processes)\n",
    "                elif isinstance(ax, matplotlib.axes.Axes) or isinstance(ax, np.ndarray):\n",
    "                    ax1 = ax\n",
    "                else:\n",
    "                    return \"ax is the wrong shape. It should be (number of processes+1,)\"\n",
    "\n",
    "            times = [0, self.timestamps[1][0]]\n",
    "            intensities = np.array([[self.mu[i, 0], self.mu[i, 0]] for i in range(self.nb_processes)])\n",
    "\n",
    "            ij_intensity = np.zeros((self.nb_processes, self.nb_processes))\n",
    "\n",
    "            step = 100\n",
    "            # print(\"here\", self.timestamps[len(self.timestamps)])\n",
    "\n",
    "            for i in range(1, len(self.timestamps[1:where])):\n",
    "                # On commence par mettre à jour la matrice lambda^{ij}\n",
    "                ij_intensity = np.multiply(ij_intensity,\n",
    "                                           np.exp(-self.beta * (self.timestamps[i][0] - self.timestamps[i - 1][0])))\n",
    "                # On enregistre le saut d'intensité de l'évenement, pour son type.\n",
    "                ij_intensity[:, self.timestamps[i][1]-1] += self.alpha[:, self.timestamps[i][1]-1]\n",
    "\n",
    "                # On définit la fonction à tracer entre T_n et T_{n+1}\n",
    "                func = lambda x: self.mu + np.matmul(\n",
    "                    np.multiply(ij_intensity, np.exp(-self.beta * (x - self.timestamps[i][0]))),\n",
    "                                np.ones((self.nb_processes, 1)))\n",
    "\n",
    "                # On enregistre la division de temps et les sauts\n",
    "                interval_t = np.linspace(self.timestamps[i][0], self.timestamps[i + 1][0], step)\n",
    "                times += interval_t.tolist()\n",
    "\n",
    "                intensities = np.concatenate((intensities, np.array(list(map(func, interval_t))).squeeze().T ), axis=1)\n",
    "                if plot_N:\n",
    "                    jumps_plot[self.timestamps[i][1]-1] += [self.timestamps[i][0] for t in range(2)]\n",
    "\n",
    "            for i in range(self.nb_processes):\n",
    "                ax1[i].plot(times, intensities[i], label=\"Underlying intensity\", c=\"#1f77b4\", linestyle=\"--\")\n",
    "                ax1[i].plot(times, np.maximum(intensities[i], 0), label=\"Conditional intensity\", c='r')\n",
    "                # ax1[i].plot([i for i,j in self.timestamps[:-1]], self.intensity_jumps[i,:], c='k', alpha=0.5)\n",
    "\n",
    "            ax1[0].legend()\n",
    "\n",
    "            if plot_N:\n",
    "                for i in range(self.nb_processes):\n",
    "                    jumps_plot[i] += [times[-1]]\n",
    "                    ax2[i].plot(jumps_plot[i], [t for t in range(len(jumps_plot[i])//2) for j in range(2)], c=\"r\", label=\"Process #%s\"%(i+1))\n",
    "                    # ax2[i].set_ylim(ax2[i].get_ylim())\n",
    "                    for j in range(self.nb_processes):\n",
    "                        if j != i:\n",
    "                            ax2[j].plot(jumps_plot[i], [t for t in range(len(jumps_plot[i])//2) for j in range(2)], c=\"#1f77b4\", alpha=0.5)\n",
    "\n",
    "                    ax2[i].legend()\n",
    "\n",
    "    def plot_heatmap(self, ax=None):\n",
    "        \"\"\"\n",
    "        This function allows to observe the heatmap where each cell {ij} corresponds to the value {alpha/beta} from that interaction\n",
    "\n",
    "        Parameters\n",
    "        ----------\n",
    "        ax : .axes.Axes, optional.\n",
    "            If None, method will generate own ax.\n",
    "            Otherwise, will use given ax.\n",
    "        \"\"\"\n",
    "        import seaborn as sns\n",
    "\n",
    "        if ax is None:\n",
    "            fig, ax = plt.subplots()\n",
    "        else:\n",
    "            ax = ax\n",
    "        beta_heat = np.copy(self.beta)\n",
    "        beta_heat[beta_heat == 0] = 1\n",
    "        heat_matrix = self.alpha/beta_heat\n",
    "\n",
    "        hex_list = ['#FF3333', '#FFFFFF', '#33FF49']\n",
    "\n",
    "        ax = sns.heatmap(heat_matrix, cmap=get_continuous_cmap(hex_list), center=0, ax=ax, annot=True)"
   ]
  },
  {
   "cell_type": "code",
   "execution_count": null,
   "id": "e955452f",
   "metadata": {},
   "outputs": [],
   "source": [
    "def multivariate_periodogram(w, tList):\n",
    "    max_time = tList[-1][0]\n",
    "    dim = int(np.max(np.array(tList)[:, 1]))\n",
    "    \n",
    "    dimensional_times = [[t for t,i in tList if i == j] for j in range(1, dim+1)]\n",
    "    \n",
    "    J_w = np.array([np.sum([np.exp(2j * np.pi * w * t) for t in i]) for i in dimensional_times]).reshape((dim, 1))\n",
    "    return (1/max_time) * J_w @ np.conj(J_w.T)\n",
    "\n",
    "\n",
    "def multivariate_spectral_noised_density(w, theta):\n",
    "    mu, alpha, beta, noise = theta\n",
    "    dim = mu.shape[0]\n",
    "    mean_matrix = np.identity(dim) * (inv(np.identity(dim) - alpha + 1e-12) @ mu)\n",
    "    \n",
    "    fourier_matrix = alpha * beta / (beta + 2j * np.pi * w)\n",
    "    spectral_matrix = inv(np.identity(dim) - fourier_matrix)\n",
    "    return np.conj(spectral_matrix) @ mean_matrix @ spectral_matrix.T + noise * np.identity(dim)\n",
    "\n",
    "\n",
    "def spectral_multivariate_noised_ll(theta, periodogram, K, max_time):\n",
    "    dim = int(np.sqrt(theta.shape[0]) - 1)\n",
    "    theta_mid = theta[:-1]\n",
    "    theta_aux = (theta_mid[:dim].reshape((dim, 1)), theta_mid[dim:-dim].reshape((dim, dim)), theta_mid[-dim:].reshape((dim, 1)), theta[-1])\n",
    "    f_matrixes = [multivariate_spectral_noised_density(j/max_time, theta_aux) for j in range(1, K+1)]\n",
    "    ll = np.sum([np.trace(inv(f_matrixes[i]) @ periodogram[i]) + np.log(det(f_matrixes[i])) for i in range(0, K)])\n",
    "    return (1/max_time) * ll.real"
   ]
  },
  {
   "cell_type": "code",
   "execution_count": 4,
   "id": "44848784",
   "metadata": {},
   "outputs": [],
   "source": [
    "def multivariate_periodogram(w, tList):\n",
    "    max_time = tList[-1][0]\n",
    "    dim = int(np.max(np.array(tList)[:, 1]))\n",
    "    \n",
    "    dimensional_times = [[t for t,i in tList if i == j] for j in range(1, dim+1)]\n",
    "    \n",
    "    J_w = np.array([np.sum([np.exp(2j * np.pi * w * t) for t in i]) for i in dimensional_times]).reshape((dim, 1))\n",
    "    return (1/max_time) * J_w @ np.conj(J_w.T)\n",
    "\n",
    "\n",
    "def multivariate_spectral_noised_trinf(w, theta):\n",
    "    mu, alpha_aux, beta, noise = theta\n",
    "    alpha = np.array([[alpha_aux[0,0], 0], \n",
    "                      [alpha_aux[1,0], alpha_aux[2,0]]])\n",
    "    #beta = np.array([beta_aux, 0]).reshape((2, 1))\n",
    "    dim = mu.shape[0]\n",
    "    m_1 = mu[0,0]/(1-alpha[0,0])\n",
    "    m_2 = mu[1,0]/(1-alpha[1,1]) + m_1 * alpha[1,0]/(1-alpha[1,1])\n",
    "    \n",
    "    aux_11 = (beta[0,0]**2 + (2 * np.pi * w)**2)/(((1- alpha[0,0])* beta[0,0])**2 + (2 * np.pi * w)**2)\n",
    "    aux_22 = (beta[1,0]**2 + (2 * np.pi * w)**2)/(((1- alpha[1,1])* beta[1,0])**2 + (2 * np.pi * w)**2)\n",
    "\n",
    "    f_11 = m_1 * aux_11 + noise\n",
    "    f_12 = m_1 * aux_11 * (alpha[1,0] * beta[1,0])/(beta[1,0] * (1-alpha[1,1]) + 2j * np.pi * w)\n",
    "    f_21 = m_1 * aux_11 * (alpha[1,0] * beta[1,0])/(beta[1,0] * (1-alpha[1,1]) - 2j * np.pi * w)\n",
    "    f_22 = m_1 * aux_11 * ((alpha[1,0] * beta[1,0])**2)/((beta[1,0] * (1-alpha[1,1]))**2 + (2 * np.pi * w)**2) + m_2 * aux_22 + noise\n",
    "    return np.array([[f_11, f_12], [f_21, f_22]])\n",
    "\n",
    "\n",
    "def spectral_multivariate_noised_ll_trinf(theta, periodogram, K, max_time):\n",
    "    dim = 2\n",
    "    #theta_mid = theta[:-1]\n",
    "    theta_aux = (np.array(theta[:dim]).reshape((dim, 1)), \n",
    "                 np.array(theta[dim:dim+3]).reshape((dim+1, 1)), \n",
    "                 np.array(theta[dim+3:-1]).reshape((dim,1)), \n",
    "                 theta[-1])\n",
    "    f_matrixes = [multivariate_spectral_noised_trinf(j/max_time, theta_aux) for j in range(1, K+1)]\n",
    "    ll = np.sum([np.trace(inv(f_matrixes[i]) @ periodogram[i]) + np.log(det(f_matrixes[i])) for i in range(0, K)])\n",
    "    return (1/max_time) * ll.real"
   ]
  },
  {
   "cell_type": "code",
   "execution_count": 5,
   "id": "2ba779ba",
   "metadata": {},
   "outputs": [
    {
     "name": "stdout",
     "output_type": "stream",
     "text": [
      "Spectral radius: 0.6985981713706884\n"
     ]
    }
   ],
   "source": [
    "mu = np.array([[1.0],\n",
    "               [1.0]])\n",
    "\n",
    "alpha = np.array([[0.5, 0.0],\n",
    "                  [0.4, 0.4]])\n",
    "\n",
    "beta = np.array([[1.0],\n",
    "                 [1.3]])\n",
    "\n",
    "noise = 0.5\n",
    "\n",
    "print(\"Spectral radius:\", norm(alpha, ord=2))"
   ]
  },
  {
   "cell_type": "code",
   "execution_count": 63,
   "id": "c40f50ef",
   "metadata": {},
   "outputs": [
    {
     "name": "stdout",
     "output_type": "stream",
     "text": [
      "[[0.43183971 0.26556476]\n",
      " [0.08214296 0.06943156]]\n"
     ]
    },
    {
     "data": {
      "text/plain": [
       "0.5180054905590232"
      ]
     },
     "execution_count": 63,
     "metadata": {},
     "output_type": "execute_result"
    }
   ],
   "source": [
    "x = np.random.rand(4).reshape((2,2))/2\n",
    "#x[0,1] = 0.0\n",
    "print(x)\n",
    "norm(x, ord=2)"
   ]
  },
  {
   "cell_type": "code",
   "execution_count": 64,
   "id": "4a09231a",
   "metadata": {},
   "outputs": [
    {
     "name": "stdout",
     "output_type": "stream",
     "text": [
      "|--------------------------------------------------|\n",
      "|"
     ]
    },
    {
     "name": "stderr",
     "output_type": "stream",
     "text": [
      "/Library/Frameworks/Python.framework/Versions/3.8/lib/python3.8/site-packages/scipy/optimize/_numdiff.py:579: ComplexWarning: Casting complex values to real discards the imaginary part\n",
      "  J_transposed[i] = df / dx\n",
      "/Library/Frameworks/Python.framework/Versions/3.8/lib/python3.8/site-packages/scipy/optimize/lbfgsb.py:351: ComplexWarning: Casting complex values to real discards the imaginary part\n",
      "  _lbfgsb.setulb(m, x, low_bnd, upper_bnd, nbd, f, g, factr,\n",
      "/Library/Frameworks/Python.framework/Versions/3.8/lib/python3.8/site-packages/scipy/optimize/_numdiff.py:579: ComplexWarning: Casting complex values to real discards the imaginary part\n",
      "  J_transposed[i] = df / dx\n",
      "/Library/Frameworks/Python.framework/Versions/3.8/lib/python3.8/site-packages/scipy/optimize/lbfgsb.py:351: ComplexWarning: Casting complex values to real discards the imaginary part\n",
      "  _lbfgsb.setulb(m, x, low_bnd, upper_bnd, nbd, f, g, factr,\n",
      "/Library/Frameworks/Python.framework/Versions/3.8/lib/python3.8/site-packages/scipy/optimize/_numdiff.py:579: ComplexWarning: Casting complex values to real discards the imaginary part\n",
      "  J_transposed[i] = df / dx\n",
      "/Library/Frameworks/Python.framework/Versions/3.8/lib/python3.8/site-packages/scipy/optimize/_numdiff.py:579: ComplexWarning: Casting complex values to real discards the imaginary part\n",
      "  J_transposed[i] = df / dx\n",
      "/Library/Frameworks/Python.framework/Versions/3.8/lib/python3.8/site-packages/scipy/optimize/lbfgsb.py:351: ComplexWarning: Casting complex values to real discards the imaginary part\n",
      "  _lbfgsb.setulb(m, x, low_bnd, upper_bnd, nbd, f, g, factr,\n",
      "/Library/Frameworks/Python.framework/Versions/3.8/lib/python3.8/site-packages/scipy/optimize/_numdiff.py:579: ComplexWarning: Casting complex values to real discards the imaginary part\n",
      "  J_transposed[i] = df / dx\n",
      "/Library/Frameworks/Python.framework/Versions/3.8/lib/python3.8/site-packages/scipy/optimize/_numdiff.py:579: ComplexWarning: Casting complex values to real discards the imaginary part\n",
      "  J_transposed[i] = df / dx\n",
      "/Library/Frameworks/Python.framework/Versions/3.8/lib/python3.8/site-packages/scipy/optimize/lbfgsb.py:351: ComplexWarning: Casting complex values to real discards the imaginary part\n",
      "  _lbfgsb.setulb(m, x, low_bnd, upper_bnd, nbd, f, g, factr,\n",
      "/Library/Frameworks/Python.framework/Versions/3.8/lib/python3.8/site-packages/scipy/optimize/_numdiff.py:579: ComplexWarning: Casting complex values to real discards the imaginary part\n",
      "  J_transposed[i] = df / dx\n",
      "/Library/Frameworks/Python.framework/Versions/3.8/lib/python3.8/site-packages/scipy/optimize/lbfgsb.py:351: ComplexWarning: Casting complex values to real discards the imaginary part\n",
      "  _lbfgsb.setulb(m, x, low_bnd, upper_bnd, nbd, f, g, factr,\n",
      "/Library/Frameworks/Python.framework/Versions/3.8/lib/python3.8/site-packages/scipy/optimize/lbfgsb.py:351: ComplexWarning: Casting complex values to real discards the imaginary part\n",
      "  _lbfgsb.setulb(m, x, low_bnd, upper_bnd, nbd, f, g, factr,\n",
      "/Library/Frameworks/Python.framework/Versions/3.8/lib/python3.8/site-packages/scipy/optimize/lbfgsb.py:351: ComplexWarning: Casting complex values to real discards the imaginary part\n",
      "  _lbfgsb.setulb(m, x, low_bnd, upper_bnd, nbd, f, g, factr,\n"
     ]
    },
    {
     "name": "stdout",
     "output_type": "stream",
     "text": [
      "--------------------------------------------------"
     ]
    },
    {
     "ename": "NameError",
     "evalue": "name 'end_time' is not defined",
     "output_type": "error",
     "traceback": [
      "\u001b[0;31m---------------------------------------------------------------------------\u001b[0m",
      "\u001b[0;31mNameError\u001b[0m                                 Traceback (most recent call last)",
      "\u001b[0;32m/var/folders/9z/nz7nhhrs6m3cf8f60p4cy_jw0000gn/T/ipykernel_36472/2259131773.py\u001b[0m in \u001b[0;36m<module>\u001b[0;34m\u001b[0m\n\u001b[1;32m     45\u001b[0m \u001b[0;32mwith\u001b[0m \u001b[0mPool\u001b[0m\u001b[0;34m(\u001b[0m\u001b[0mcpu_count\u001b[0m\u001b[0;34m(\u001b[0m\u001b[0;34m)\u001b[0m\u001b[0;34m-\u001b[0m\u001b[0;36m1\u001b[0m\u001b[0;34m)\u001b[0m \u001b[0;32mas\u001b[0m \u001b[0mp\u001b[0m\u001b[0;34m:\u001b[0m\u001b[0;34m\u001b[0m\u001b[0;34m\u001b[0m\u001b[0m\n\u001b[1;32m     46\u001b[0m     \u001b[0mestimations_max\u001b[0m \u001b[0;34m=\u001b[0m \u001b[0mnp\u001b[0m\u001b[0;34m.\u001b[0m\u001b[0marray\u001b[0m\u001b[0;34m(\u001b[0m\u001b[0mp\u001b[0m\u001b[0;34m.\u001b[0m\u001b[0mmap\u001b[0m\u001b[0;34m(\u001b[0m\u001b[0mjob\u001b[0m\u001b[0;34m,\u001b[0m \u001b[0mrange\u001b[0m\u001b[0;34m(\u001b[0m\u001b[0mrepetitions\u001b[0m\u001b[0;34m)\u001b[0m\u001b[0;34m)\u001b[0m\u001b[0;34m)\u001b[0m\u001b[0;34m\u001b[0m\u001b[0;34m\u001b[0m\u001b[0m\n\u001b[0;32m---> 47\u001b[0;31m \u001b[0mprint\u001b[0m\u001b[0;34m(\u001b[0m\u001b[0;34m'|\\n Done in: '\u001b[0m \u001b[0;34m+\u001b[0m \u001b[0mstr\u001b[0m\u001b[0;34m(\u001b[0m\u001b[0mend_time\u001b[0m \u001b[0;34m-\u001b[0m \u001b[0mstart_time\u001b[0m\u001b[0;34m)\u001b[0m\u001b[0;34m)\u001b[0m\u001b[0;34m\u001b[0m\u001b[0;34m\u001b[0m\u001b[0m\n\u001b[0m\u001b[1;32m     48\u001b[0m \u001b[0mprint\u001b[0m\u001b[0;34m(\u001b[0m\u001b[0mestimations_max\u001b[0m\u001b[0;34m)\u001b[0m\u001b[0;34m\u001b[0m\u001b[0;34m\u001b[0m\u001b[0m\n",
      "\u001b[0;31mNameError\u001b[0m: name 'end_time' is not defined"
     ]
    }
   ],
   "source": [
    "from multiprocess import Pool, cpu_count\n",
    "\n",
    "# Reduced model\n",
    "max_time = 2500\n",
    "repetitions = 50\n",
    "# estimations_max = np.zeros((repetitions, 5))\n",
    "\n",
    "\n",
    "bounds = [(1e-16, None), (1e-16, None), (1e-16, 1-1e-16), (1e-16, 1-1e-16), (1e-16, 1-1e-16), \n",
    "          (1e-16, None), (1e-16, None), (1e-16, None)]\n",
    "\n",
    "dim = 2\n",
    "\n",
    "def job(it):\n",
    "    np.random.seed(it)\n",
    "    hp = multivariate_exponential_hawkes(mu, alpha * beta, beta, max_time=max_time)\n",
    "    hp.simulate()\n",
    "    hp_times = hp.timestamps\n",
    "\n",
    "    pp = multivariate_exponential_hawkes(noise * np.ones((2,1)), 0*alpha, beta, max_time=max_time)\n",
    "    pp.simulate()\n",
    "    pp_times = pp.timestamps\n",
    "\n",
    "    idx = np.argsort(pp_times[1:-1] + hp_times, axis=0)[:, 0]\n",
    "    parasited_times = np.array(pp_times[1:-1] + hp_times)[idx]\n",
    "    K = int(parasited_times.shape[0]/2)\n",
    "    init = np.random.rand(8)/2 + np.r_[.75, .75, 0., 0., 0., .75, .75, .75]\n",
    "    \n",
    "    periodogram = [multivariate_periodogram(j/max_time, parasited_times) for j in range(1, K+1)]\n",
    "    \n",
    "    start_time = time.time()\n",
    "    res = minimize(spectral_multivariate_noised_ll_trinf,\n",
    "                   init, tol=1e-16,\n",
    "                   method=\"L-BFGS-B\", jac=None,\n",
    "                   args=(periodogram, K, max_time),\n",
    "                   bounds=bounds, options={\"disp\":False})\n",
    "    end_time = time.time()\n",
    "    \n",
    "    print('-', end='')\n",
    "    # print(res.x)\n",
    "\n",
    "    return res.x\n",
    "print('|'+'-'*repetitions+'|')\n",
    "print('|', end='')\n",
    "with Pool(cpu_count()-1) as p:\n",
    "    estimations_max = np.array(p.map(job, range(repetitions)))\n",
    "print('|\\n Done in: ' + str(end_time - start_time))\n",
    "print(estimations_max)"
   ]
  },
  {
   "cell_type": "code",
   "execution_count": null,
   "id": "08a25c32",
   "metadata": {},
   "outputs": [],
   "source": [
    "# Full model\n",
    "max_time = 2500\n",
    "repetitions = 50\n",
    "# estimations_max = np.zeros((repetitions, 5))\n",
    "\n",
    "\n",
    "bounds = [(1e-16, None), (1e-16, None), (1e-16, 1-1e-16), (1e-16, 1-1e-16), (1e-16, 1-1e-16), (1e-16, 1-1e-16), \n",
    "          (1e-16, None), (1e-16, None), (1e-16, None)]\n",
    "\n",
    "dim = 2\n",
    "\n",
    "def job(it):\n",
    "    np.random.seed(it)\n",
    "    hp = multivariate_exponential_hawkes(mu, alpha * beta, beta, max_time=max_time)\n",
    "    hp.simulate()\n",
    "    hp_times = hp.timestamps\n",
    "\n",
    "    pp = multivariate_exponential_hawkes(noise * np.ones((2,1)), 0*alpha, beta, max_time=max_time)\n",
    "    pp.simulate()\n",
    "    pp_times = pp.timestamps\n",
    "\n",
    "    idx = np.argsort(pp_times[1:-1] + hp_times, axis=0)[:, 0]\n",
    "    parasited_times = np.array(pp_times[1:-1] + hp_times)[idx]\n",
    "    K = int(parasited_times.shape[0]/2)\n",
    "    init = np.random.rand(9)/2 + np.r_[.75, .75, 0., 0., 0., 0., .75, .75, .75]\n",
    "    \n",
    "    periodogram = [multivariate_periodogram(j/max_time, parasited_times) for j in range(1, K+1)]\n",
    "    \n",
    "    start_time = time.time()\n",
    "    res = minimize(spectral_multivariate_noised_ll,\n",
    "                   init, tol=1e-16,\n",
    "                   method=\"L-BFGS-B\", jac=None,\n",
    "                   args=(periodogram, K, max_time),\n",
    "                   bounds=bounds, options={\"disp\":False})\n",
    "    end_time = time.time()\n",
    "    \n",
    "    print('-', end='')\n",
    "    # print(res.x)\n",
    "\n",
    "    return res.x\n",
    "print('|'+'-'*repetitions+'|')\n",
    "print('|', end='')\n",
    "with Pool(cpu_count()-1) as p:\n",
    "    estimations = np.array(p.map(job, range(repetitions)))\n",
    "print('|\\n Done')\n",
    "print(estimations)"
   ]
  },
  {
   "cell_type": "code",
   "execution_count": 22,
   "id": "b80eaf01",
   "metadata": {},
   "outputs": [
    {
     "name": "stdout",
     "output_type": "stream",
     "text": [
      "12356\n"
     ]
    }
   ],
   "source": [
    "max_time = 2500\n",
    "np.random.seed(17920)#1000, 1000\n",
    "# best 1000,1700\n",
    "hp = multivariate_exponential_hawkes(mu, alpha * beta, beta, max_time=max_time)\n",
    "hp.simulate()\n",
    "hp_times = hp.timestamps\n",
    "K = np.sum(hp.count)\n",
    "print(K)\n"
   ]
  },
  {
   "cell_type": "code",
   "execution_count": 30,
   "id": "827d813d",
   "metadata": {},
   "outputs": [
    {
     "data": {
      "image/png": "[encoded data removed]",
      "text/plain": [
       "<Figure size 864x864 with 4 Axes>"
      ]
     },
     "metadata": {},
     "output_type": "display_data"
    }
   ],
   "source": [
    "fig, ax = plt.subplots(2,2, figsize=(12,12))\n",
    "hp.plot_intensity(ax=ax, where=100)"
   ]
  },
  {
   "cell_type": "code",
   "execution_count": 31,
   "id": "070bffbb",
   "metadata": {},
   "outputs": [],
   "source": [
    "noise = 0.5\n",
    "pp = multivariate_exponential_hawkes(noise * np.ones((2,1)), 0*alpha, beta, max_time=max_time)\n",
    "pp.simulate()\n",
    "pp_times = pp.timestamps"
   ]
  },
  {
   "cell_type": "code",
   "execution_count": 32,
   "id": "25b469c2",
   "metadata": {
    "scrolled": false
   },
   "outputs": [
    {
     "data": {
      "image/png": "[encoded data removed]",
      "text/plain": [
       "<Figure size 864x864 with 4 Axes>"
      ]
     },
     "metadata": {},
     "output_type": "display_data"
    }
   ],
   "source": [
    "fig, ax = plt.subplots(2,2, figsize=(12,12))\n",
    "pp.plot_intensity(ax=ax, where=50)"
   ]
  },
  {
   "cell_type": "code",
   "execution_count": 33,
   "id": "2a1e907d",
   "metadata": {},
   "outputs": [
    {
     "name": "stdout",
     "output_type": "stream",
     "text": [
      "12341\n",
      "400.42002987861633\n"
     ]
    }
   ],
   "source": [
    "idx = np.argsort(pp_times[1:-1] + hp_times, axis=0)[:, 0]\n",
    "parasited_times = np.array(pp_times[1:-1] + hp_times)[idx]\n",
    "K = int(parasited_times.shape[0]/2)\n",
    "#K = int(K * np.log(K))\n",
    "print(K)\n",
    "start_time = time.time()\n",
    "periodogram = [multivariate_periodogram(j/max_time, parasited_times) for j in range(1, K+1)]\n",
    "end_time = time.time()\n",
    "print(end_time - start_time)\n"
   ]
  },
  {
   "cell_type": "code",
   "execution_count": 34,
   "id": "70348dca",
   "metadata": {
    "scrolled": true
   },
   "outputs": [
    {
     "name": "stderr",
     "output_type": "stream",
     "text": [
      "/Users/alisdair/PycharmProjects/hawkes-inhibition/venv/lib/python3.10/site-packages/scipy/optimize/_numdiff.py:598: ComplexWarning: Casting complex values to real discards the imaginary part\n",
      "  J_transposed[i] = df / dx\n",
      "/Users/alisdair/PycharmProjects/hawkes-inhibition/venv/lib/python3.10/site-packages/scipy/optimize/_lbfgsb_py.py:353: ComplexWarning: Casting complex values to real discards the imaginary part\n",
      "  _lbfgsb.setulb(m, x, low_bnd, upper_bnd, nbd, f, g, factr,\n"
     ]
    },
    {
     "name": "stdout",
     "output_type": "stream",
     "text": [
      "Done with the estimation 533.5957989692688\n",
      "[1.04524226e+00 1.09064435e+00 4.85166484e-01 1.00000000e-16\n",
      " 1.94993613e-01 2.68935382e-01 1.05324810e+00 1.37765476e+00\n",
      " 4.29801917e-01]\n"
     ]
    }
   ],
   "source": [
    "dim = 2\n",
    "bounds = [(1e-16, None) for i in range(dim)]\n",
    "bounds = bounds + [(1e-16, 1-1e-16) for i in range(dim**2)] + bounds + [(1e-16, None)]\n",
    "start_time = time.time()\n",
    "res = minimize(spectral_multivariate_noised_ll,\n",
    "               [0.1 for _ in range(dim * (2 + dim) + 1)], tol=1e-16,\n",
    "               method=\"L-BFGS-B\", jac=None,\n",
    "               args=([i for i in periodogram], K, max_time),\n",
    "               \n",
    "               \n",
    "               bounds=bounds, options={\"disp\":False})\n",
    "end_time = time.time()\n",
    "print(\"Done with the estimation\", end_time - start_time)\n",
    "print(res.x) "
   ]
  },
  {
   "cell_type": "code",
   "execution_count": 35,
   "id": "0694df30",
   "metadata": {},
   "outputs": [
    {
     "data": {
      "text/plain": [
       "(array([[1.],\n",
       "        [1.]]),\n",
       " array([[0.5, 0. ],\n",
       "        [0.2, 0.3]]),\n",
       " array([[1. ],\n",
       "        [1.3]]),\n",
       " 0.5,\n",
       " array([1.04524226, 1.09064435]),\n",
       " array([[4.85166484e-01, 1.00000000e-16],\n",
       "        [1.94993613e-01, 2.68935382e-01]]),\n",
       " array([1.0532481 , 1.37765476]),\n",
       " 0.42980191660485634)"
      ]
     },
     "execution_count": 35,
     "metadata": {},
     "output_type": "execute_result"
    }
   ],
   "source": [
    "mu, alpha, beta, noise, res.x[0:dim], res.x[dim:-dim-1].reshape((dim,dim)), res.x[-dim-1:-1], res.x[-1]"
   ]
  },
  {
   "cell_type": "code",
   "execution_count": 36,
   "id": "84a1597e",
   "metadata": {},
   "outputs": [
    {
     "name": "stdout",
     "output_type": "stream",
     "text": [
      "Done with the estimation 486.0062098503113\n",
      "[8.99708376e-01 1.74672846e+00 4.11698890e-01 2.22299409e-01\n",
      " 2.70463393e-02 2.61548219e-01 1.00258151e+00 1.41454156e+00\n",
      " 1.00000000e-16]\n"
     ]
    }
   ],
   "source": [
    "bounds = [(1e-16, None) for i in range(dim)]\n",
    "bounds = bounds + [(1e-16, 1-1e-16) for i in range(dim**2)] + bounds + [(1e-16, None)]\n",
    "start_time = time.time()\n",
    "res2 = minimize(spectral_multivariate_noised_ll,\n",
    "               [1.0 for _ in range(dim)] + [0.3 for _ in range(dim * (dim))] + [1.0 for _ in range(dim+1)], \n",
    "               tol=1e-16,\n",
    "               method=\"L-BFGS-B\", jac=None,\n",
    "               args=([i.T for i in periodogram], K, max_time),\n",
    "               bounds=bounds, options={\"disp\":False})\n",
    "end_time = time.time()\n",
    "print(\"Done with the estimation\", end_time - start_time)\n",
    "print(res2.x) "
   ]
  },
  {
   "cell_type": "markdown",
   "id": "c8194443",
   "metadata": {},
   "source": [
    "# Repetitions"
   ]
  },
  {
   "cell_type": "code",
   "execution_count": 48,
   "id": "8f43db97",
   "metadata": {},
   "outputs": [
    {
     "name": "stdout",
     "output_type": "stream",
     "text": [
      "Estimation # 1\n",
      "Time of first estimation:  127.30328869819641\n",
      "Estimation # 2\n",
      "Estimation # 3\n",
      "Estimation # 4\n",
      "Estimation # 5\n",
      "Estimation # 6\n",
      "Estimation # 7\n",
      "Estimation # 8\n",
      "Estimation # 9\n",
      "Estimation # 10\n",
      "Estimation # 11\n",
      "Estimation # 12\n",
      "Estimation # 13\n",
      "Estimation # 14\n",
      "Estimation # 15\n",
      "Estimation # 16\n",
      "Estimation # 17\n",
      "Estimation # 18\n",
      "Estimation # 19\n",
      "Estimation # 20\n",
      "Estimation # 21\n",
      "Estimation # 22\n",
      "Estimation # 23\n",
      "Estimation # 24\n",
      "Estimation # 25\n",
      "Estimation # 26\n",
      "Estimation # 27\n",
      "Estimation # 28\n",
      "Estimation # 29\n",
      "Estimation # 30\n",
      "Estimation # 31\n",
      "Estimation # 32\n",
      "Estimation # 33\n",
      "Estimation # 34\n",
      "Estimation # 35\n",
      "Estimation # 36\n",
      "Estimation # 37\n",
      "Estimation # 38\n",
      "Estimation # 39\n",
      "Estimation # 40\n",
      "Estimation # 41\n",
      "Estimation # 42\n",
      "Estimation # 43\n",
      "Estimation # 44\n",
      "Estimation # 45\n",
      "Estimation # 46\n",
      "Estimation # 47\n",
      "Estimation # 48\n",
      "Estimation # 49\n",
      "Estimation # 50\n"
     ]
    }
   ],
   "source": [
    "max_time = 1000\n",
    "repetitions = 50\n",
    "estimations_max = np.zeros((repetitions, 8))\n",
    "for idx_repet in range(repetitions):\n",
    "    np.random.seed(idx_repet)\n",
    "    hp = multivariate_exponential_hawkes(mu, alpha * beta, beta, max_time=max_time)\n",
    "    hp.simulate()\n",
    "    hp_times = hp.timestamps\n",
    "    \n",
    "    pp = multivariate_exponential_hawkes(noise * np.ones((2,1)), 0*alpha, beta, max_time=max_time)\n",
    "    pp.simulate()\n",
    "    pp_times = pp.timestamps\n",
    "    \n",
    "    idx = np.argsort(pp_times[1:-1] + hp_times, axis=0)[:, 0]\n",
    "    parasited_times = np.array(pp_times[1:-1] + hp_times)[idx]\n",
    "    K = int(parasited_times.shape[0]/2)\n",
    "    periodogram = [multivariate_periodogram(j/max_time, parasited_times) for j in range(1, K+1)]\n",
    "\n",
    "    bounds = [(1e-16, None) for i in range(dim)]\n",
    "    bounds = bounds + [(1e-16, 1-1e-16) for i in range(dim + 1)] + bounds + [(1e-16, None)]\n",
    "\n",
    "    res = minimize(spectral_multivariate_noised_ll_trinf,\n",
    "                   [0.1 for _ in range(8)], tol=1e-16,\n",
    "                   method=\"L-BFGS-B\", jac=None,\n",
    "                   args=([i for i in periodogram], K, max_time),\n",
    "\n",
    "\n",
    "                   bounds=bounds, options={\"disp\":False})\n",
    "    estimations_max[idx_repet, :] = res.x\n",
    "    print(\"Estimation #\", str(idx_repet + 1))\n",
    "    if idx_repet == 0:\n",
    "        print(\"Time of first estimation: \", end_time - start_time)\n"
   ]
  },
  {
   "cell_type": "code",
   "execution_count": 46,
   "id": "fe89cb9d",
   "metadata": {},
   "outputs": [
    {
     "data": {
      "text/plain": [
       "(array([[1.],\n",
       "        [1.]]),\n",
       " array([[0.5, 0. ],\n",
       "        [0.2, 0.3]]),\n",
       " array([[1. ],\n",
       "        [1.3]]),\n",
       " 0.5,\n",
       " array([0.80532931, 0.82885834]),\n",
       " 0.571181265232433,\n",
       " array([[0.20016622, 0.34820997]]),\n",
       " array([1.11741423, 1.68734497]),\n",
       " 0.8028775680452718)"
      ]
     },
     "execution_count": 46,
     "metadata": {},
     "output_type": "execute_result"
    }
   ],
   "source": [
    "mu, alpha, beta, noise, estimations[0:dim], estimations[dim], estimations[dim+1:dim+3].reshape((1,2)), estimations[-3:-1], estimations[-1]\n"
   ]
  },
  {
   "cell_type": "code",
   "execution_count": 38,
   "id": "4f6c7856",
   "metadata": {},
   "outputs": [
    {
     "name": "stdout",
     "output_type": "stream",
     "text": [
      "Estimation # 1\n",
      "Estimation # 2\n",
      "Estimation # 3\n",
      "Estimation # 4\n",
      "Estimation # 5\n",
      "Estimation # 6\n",
      "Estimation # 7\n",
      "Estimation # 8\n",
      "Estimation # 9\n",
      "Estimation # 10\n"
     ]
    }
   ],
   "source": [
    "max_time = 1000\n",
    "repetitions = 10\n",
    "estimations = np.zeros((9,))\n",
    "for idx_repet in range(repetitions):\n",
    "    np.random.seed(idx_repet)\n",
    "    hp = multivariate_exponential_hawkes(mu, alpha * beta, beta, max_time=max_time)\n",
    "    hp.simulate()\n",
    "    hp_times = hp.timestamps\n",
    "    \n",
    "    pp = multivariate_exponential_hawkes(noise * np.ones((2,1)), 0*alpha, beta, max_time=max_time)\n",
    "    pp.simulate()\n",
    "    pp_times = pp.timestamps\n",
    "    \n",
    "    idx = np.argsort(pp_times[1:-1] + hp_times, axis=0)[:, 0]\n",
    "    parasited_times = np.array(pp_times[1:-1] + hp_times)[idx]\n",
    "    K = int(parasited_times.shape[0]/2)\n",
    "    periodogram = [multivariate_periodogram(j/max_time, parasited_times) for j in range(1, K+1)]\n",
    "\n",
    "    bounds = [(1e-16, None) for i in range(dim)]\n",
    "    bounds = bounds + [(1e-16, 1-1e-16) for i in range(dim**2)] + bounds + [(1e-16, None)]\n",
    "    start_time = time.time()\n",
    "    res = minimize(spectral_multivariate_noised_ll,\n",
    "                   [0.1 for _ in range(dim * (2 + dim) + 1)], tol=1e-16,\n",
    "                   method=\"L-BFGS-B\", jac=None,\n",
    "                   args=([i for i in periodogram], K, max_time),\n",
    "\n",
    "\n",
    "                   bounds=bounds, options={\"disp\":False})\n",
    "    estimations += res.x\n",
    "    print(\"Estimation #\", str(idx_repet + 1))\n",
    "    \n",
    "estimations /= repetitions"
   ]
  },
  {
   "cell_type": "code",
   "execution_count": 40,
   "id": "85f4565d",
   "metadata": {},
   "outputs": [
    {
     "data": {
      "text/plain": [
       "(array([[1.],\n",
       "        [1.]]),\n",
       " array([[0.5, 0. ],\n",
       "        [0.2, 0.3]]),\n",
       " array([[1. ],\n",
       "        [1.3]]),\n",
       " 0.5,\n",
       " array([0.90257937, 0.92593051]),\n",
       " array([[0.55091266, 0.00926974],\n",
       "        [0.19561024, 0.33238513]]),\n",
       " array([1.07343715, 1.62760238]),\n",
       " 0.6416204569500702)"
      ]
     },
     "execution_count": 40,
     "metadata": {},
     "output_type": "execute_result"
    }
   ],
   "source": [
    "mu, alpha, beta, noise, estimations[0:dim], estimations[dim:-dim-1].reshape((dim,dim)), estimations[-dim-1:-1], estimations[-1]"
   ]
  },
  {
   "cell_type": "code",
   "execution_count": 49,
   "id": "0b8eabee",
   "metadata": {},
   "outputs": [
    {
     "name": "stdout",
     "output_type": "stream",
     "text": [
      "Estimation # 1\n",
      "Time of first estimation:  130.72698307037354\n",
      "Estimation # 2\n",
      "Estimation # 3\n",
      "Estimation # 4\n",
      "Estimation # 5\n",
      "Estimation # 6\n",
      "Estimation # 7\n",
      "Estimation # 8\n",
      "Estimation # 9\n",
      "Estimation # 10\n",
      "Estimation # 11\n",
      "Estimation # 12\n",
      "Estimation # 13\n",
      "Estimation # 14\n",
      "Estimation # 15\n",
      "Estimation # 16\n",
      "Estimation # 17\n",
      "Estimation # 18\n",
      "Estimation # 19\n",
      "Estimation # 20\n",
      "Estimation # 21\n",
      "Estimation # 22\n",
      "Estimation # 23\n",
      "Estimation # 24\n",
      "Estimation # 25\n",
      "Estimation # 26\n",
      "Estimation # 27\n",
      "Estimation # 28\n",
      "Estimation # 29\n",
      "Estimation # 30\n",
      "Estimation # 31\n",
      "Estimation # 32\n",
      "Estimation # 33\n",
      "Estimation # 34\n",
      "Estimation # 35\n",
      "Estimation # 36\n",
      "Estimation # 37\n",
      "Estimation # 38\n",
      "Estimation # 39\n",
      "Estimation # 40\n",
      "Estimation # 41\n",
      "Estimation # 42\n",
      "Estimation # 43\n",
      "Estimation # 44\n",
      "Estimation # 45\n",
      "Estimation # 46\n",
      "Estimation # 47\n",
      "Estimation # 48\n",
      "Estimation # 49\n",
      "Estimation # 50\n"
     ]
    }
   ],
   "source": [
    "max_time = 1000\n",
    "repetitions = 50\n",
    "estimations = np.zeros((repetitions, 9))\n",
    "for idx_repet in range(repetitions):\n",
    "    np.random.seed(idx_repet)\n",
    "    hp = multivariate_exponential_hawkes(mu, alpha * beta, beta, max_time=max_time)\n",
    "    hp.simulate()\n",
    "    hp_times = hp.timestamps\n",
    "    \n",
    "    pp = multivariate_exponential_hawkes(noise * np.ones((2,1)), 0*alpha, beta, max_time=max_time)\n",
    "    pp.simulate()\n",
    "    pp_times = pp.timestamps\n",
    "    \n",
    "    idx = np.argsort(pp_times[1:-1] + hp_times, axis=0)[:, 0]\n",
    "    parasited_times = np.array(pp_times[1:-1] + hp_times)[idx]\n",
    "    K = int(parasited_times.shape[0]/2)\n",
    "    periodogram = [multivariate_periodogram(j/max_time, parasited_times) for j in range(1, K+1)]\n",
    "\n",
    "    bounds = [(1e-16, None) for i in range(dim)]\n",
    "    bounds = bounds + [(1e-16, 1-1e-16) for i in range(dim**2)] + bounds + [(1e-16, None)]\n",
    "    start_time = time.time()\n",
    "    res = minimize(spectral_multivariate_noised_ll,\n",
    "                   [0.1 for _ in range(dim * (2 + dim) + 1)], tol=1e-16,\n",
    "                   method=\"L-BFGS-B\", jac=None,\n",
    "                   args=([i for i in periodogram], K, max_time),\n",
    "\n",
    "\n",
    "                   bounds=bounds, options={\"disp\":False})\n",
    "    end_time = time.time()\n",
    "    estimations[idx_repet, :] = res.x\n",
    "    print(\"Estimation #\", str(idx_repet + 1))\n",
    "    if idx_repet == 0:\n",
    "        print(\"Time of first estimation: \", end_time - start_time)\n"
   ]
  },
  {
   "cell_type": "code",
   "execution_count": 51,
   "id": "7fd89607",
   "metadata": {},
   "outputs": [
    {
     "data": {
      "text/plain": [
       "(array([1. , 1. , 0.5, 0. , 0.2, 0.3, 1. , 1.3, 0.5]),\n",
       " array([1. , 1. , 0.5, 0.2, 0.3, 1. , 1.3, 0.5]))"
      ]
     },
     "execution_count": 51,
     "metadata": {},
     "output_type": "execute_result"
    }
   ],
   "source": [
    "theta = np.concatenate((mu.ravel(), alpha.ravel(), beta.ravel(), np.array([noise])))\n",
    "theta_max = np.concatenate((mu.ravel(), (alpha[alpha > 0.0]).ravel(), beta.ravel(), np.array([noise])))\n",
    "theta, theta_max"
   ]
  },
  {
   "cell_type": "code",
   "execution_count": 59,
   "id": "8acb3a63",
   "metadata": {},
   "outputs": [
    {
     "data": {
      "text/plain": [
       "(array([0.97972955, 1.00654361, 0.52303515, 0.01353529, 0.19456144,\n",
       "        0.3309489 , 1.12342316, 1.5102281 , 0.51166538]),\n",
       " array([0.84348489, 0.85486733, 0.56007318, 0.19834503, 0.35932937,\n",
       "        1.47497826, 1.6693338 , 0.76086751]))"
      ]
     },
     "execution_count": 59,
     "metadata": {},
     "output_type": "execute_result"
    }
   ],
   "source": [
    "np.mean(estimations, axis=0), np.mean(estimations_max, axis=0)"
   ]
  },
  {
   "cell_type": "code",
   "execution_count": 135,
   "id": "c2111ee1",
   "metadata": {},
   "outputs": [
    {
     "data": {
      "text/plain": [
       "([<matplotlib.lines.Line2D at 0x2969e4850>], ['$\\\\mathdefault{2}$'])"
      ]
     },
     "execution_count": 135,
     "metadata": {},
     "output_type": "execute_result"
    }
   ],
   "source": [
    "rp.legend_elements()[0]"
   ]
  },
  {
   "cell_type": "code",
   "execution_count": 163,
   "id": "0ad73699",
   "metadata": {},
   "outputs": [
    {
     "name": "stdout",
     "output_type": "stream",
     "text": [
      "[0.15651511 0.14513267 0.12014635 0.00827484 0.19776457 0.47497826\n",
      " 0.28410293 0.52173502]\n",
      "[0.02027045 0.00654361 0.04607031        inf 0.02719281 0.10316299\n",
      " 0.12342316 0.16171392 0.02333076]\n"
     ]
    },
    {
     "name": "stderr",
     "output_type": "stream",
     "text": [
      "/var/folders/wk/bfdcmvtn29vgqtw3n5fkkds00000gn/T/ipykernel_31957/243627633.py:9: RuntimeWarning: divide by zero encountered in true_divide\n",
      "  print(np.abs(np.mean(estimations, axis=0) - theta)/theta)\n"
     ]
    },
    {
     "data": {
      "text/plain": [
       "<matplotlib.legend.Legend at 0x2a0c946a0>"
      ]
     },
     "execution_count": 163,
     "metadata": {},
     "output_type": "execute_result"
    },
    {
     "data": {
      "image/png": "[encoded data removed]",
      "text/plain": [
       "<Figure size 864x576 with 1 Axes>"
      ]
     },
     "metadata": {},
     "output_type": "display_data"
    }
   ],
   "source": [
    "parameters = [r\"$\\mu_1$\", r\"$\\mu_2$\", r\"$\\alpha_{11}$\", r\"$\\alpha_{21}$\", r\"$\\alpha_{22}$\", r\"$\\beta_1$\", r\"$\\beta_2$\", r\"$\\lambda_0$\"]\n",
    "fig, ax = plt.subplots(1, 1, figsize=(12,8))\n",
    "bp = ax.boxplot(estimations_max, showmeans=True)\n",
    "rp = ax.scatter(range(1, 9), theta_max, label=\"Real parameter\")\n",
    "ax.set_ylim([0.0 - 0.05 * np.max(estimations_max[:, -2]), \n",
    "             1.05 * np.max(estimations_max[:, -2])])\n",
    "ax.set_xticklabels(parameters)\n",
    "print(np.abs(np.mean(estimations_max, axis=0) - theta_max)/theta_max)\n",
    "print(np.abs(np.mean(estimations, axis=0) - theta)/theta)\n",
    "#ax.legend()\n",
    "ax.legend([matplotlib.lines.Line2D([0], [0], marker=\"o\", ls=\"\"), bp['means'][0]], ['Real parameter', 'Mean estimation'])"
   ]
  },
  {
   "cell_type": "code",
   "execution_count": 101,
   "id": "37b1ad8e",
   "metadata": {},
   "outputs": [],
   "source": []
  },
  {
   "cell_type": "code",
   "execution_count": 58,
   "id": "a26047cd",
   "metadata": {},
   "outputs": [
    {
     "data": {
      "image/png": "[encoded data removed]",
      "text/plain": [
       "<Figure size 864x576 with 2 Axes>"
      ]
     },
     "metadata": {},
     "output_type": "display_data"
    }
   ],
   "source": [
    "fig, ax = plt.subplots(2, 1, figsize=(12,8))\n",
    "_ = ax[0].boxplot(estimations, showmeans=True)\n",
    "_ = ax[0].scatter(range(1, 10), theta)\n",
    "_ = ax[1].boxplot(estimations_max, showmeans=True)\n",
    "_ = ax[1].scatter(range(1, 9), theta_max)\n",
    "#ax[0].set_yscale(\"log\")\n",
    "#ax[1].set_yscale(\"log\")"
   ]
  },
  {
   "cell_type": "code",
   "execution_count": null,
   "id": "339a13a0",
   "metadata": {},
   "outputs": [],
   "source": []
  },
  {
   "cell_type": "code",
   "execution_count": 73,
   "id": "528450d5",
   "metadata": {
    "scrolled": true
   },
   "outputs": [
    {
     "name": "stdout",
     "output_type": "stream",
     "text": [
      "[0.37198316972211043, 1e-16, 0.1369441046848641, 0.20521081390915039]\n",
      "[0.39048703415619546, 0.12012089804837232, 0.2051458847177749]\n"
     ]
    },
    {
     "data": {
      "image/png": "[encoded data removed]",
      "text/plain": [
       "<Figure size 864x864 with 2 Axes>"
      ]
     },
     "metadata": {},
     "output_type": "display_data"
    }
   ],
   "source": [
    "fig, ax = plt.subplots(2, 1, figsize=(12,12))\n",
    "_ = ax[0].boxplot(estimations, showmeans=True)\n",
    "_ = ax[0].scatter(range(1, 10), theta)\n",
    "_ = ax[1].boxplot(estimations_max, showmeans=True)\n",
    "_ = ax[1].scatter(range(1, 9), theta_max)\n",
    "ax[0].set_ylim([-0.1, 4])\n",
    "ax[1].set_ylim([-0.1, 4])\n",
    "#ax[1].set_yscale(\"log\")\n",
    "print([np.quantile(estimations[:, i], q=0.05) for i in range(dim, dim*dim + dim)])\n",
    "print([np.quantile(estimations_max[:, i], q=0.05) for i in range(dim, dim*dim + dim-1)])"
   ]
  },
  {
   "cell_type": "code",
   "execution_count": null,
   "id": "6fadc2ce",
   "metadata": {},
   "outputs": [],
   "source": [
    "estim"
   ]
  },
  {
   "cell_type": "code",
   "execution_count": 88,
   "id": "d04f917d",
   "metadata": {},
   "outputs": [
    {
     "name": "stdout",
     "output_type": "stream",
     "text": [
      "[0.15651511 0.14513267 0.12014635 0.00827484 0.19776457 0.47497826\n",
      " 0.28410293 0.52173502]\n",
      "[0.06739322 0.03296193 0.10316781 0.00374159 0.09242352 0.01065187\n",
      " 0.05682499 0.10924587]\n"
     ]
    },
    {
     "data": {
      "image/png": "[encoded data removed]",
      "text/plain": [
       "<Figure size 864x576 with 2 Axes>"
      ]
     },
     "metadata": {},
     "output_type": "display_data"
    }
   ],
   "source": [
    "parameters = [r\"$\\mu_1$\", r\"$\\mu_2$\", r\"$\\alpha_{11}$\", r\"$\\alpha_{21}$\", r\"$\\alpha_{22}$\", r\"$\\beta_1$\", r\"$\\beta_2$\", r\"$\\lambda_0$\"]\n",
    "fig, ax = plt.subplots(2, 1, figsize=(12,8), sharex=True)\n",
    "_ = ax[0].boxplot(np.abs(estimations_max - theta_max)/theta_max, showmeans=True)\n",
    "_ = ax[0].scatter(range(1, 9), np.abs(np.mean(estimations_max, axis=0) - theta_max)/theta_max)\n",
    "_ = ax[1].boxplot(estimations_max, showmeans=True)\n",
    "_ = ax[1].scatter(range(1, 9), theta_max)\n",
    "#ax.set_ylim([-0.1, 4])\n",
    "ax[0].set_xticklabels([])\n",
    "ax[1].set_xticks(range(1, 9))\n",
    "ax[1].set_xticklabels(parameters)\n",
    "ax[0].set_ylim([ax[0].get_ylim()[0], 5.0])\n",
    "ax[1].set_ylim([ax[1].get_ylim()[0], 7.5])\n",
    "print(np.abs(np.mean(estimations_max, axis=0) - theta_max)/theta_max)\n",
    "print(np.abs(np.median(estimations_max, axis=0) - theta_max)/theta_max)"
   ]
  },
  {
   "cell_type": "code",
   "execution_count": 87,
   "id": "7c75d0c5",
   "metadata": {},
   "outputs": [
    {
     "data": {
      "text/plain": [
       "(0.7608675121938433, 0.5)"
      ]
     },
     "execution_count": 87,
     "metadata": {},
     "output_type": "execute_result"
    }
   ],
   "source": [
    "estimations_max[:, -1].mean(), noise"
   ]
  },
  {
   "cell_type": "code",
   "execution_count": 75,
   "id": "7ce02294",
   "metadata": {},
   "outputs": [
    {
     "data": {
      "text/plain": [
       "(50, 9)"
      ]
     },
     "execution_count": 75,
     "metadata": {},
     "output_type": "execute_result"
    }
   ],
   "source": [
    "estimations.shape"
   ]
  },
  {
   "cell_type": "code",
   "execution_count": null,
   "id": "35ef7244",
   "metadata": {},
   "outputs": [],
   "source": [
    "import pickle\n",
    "explanation = \"Estimations for Scenario 2 (Triangle).\"\n",
    "explanation += \" First is explanation, second is estimations in reduced model,\"\n",
    "#explanation += \" third is estimations in full model.\"\n",
    "explanation += \" Dimensions (repetitions, parameters).\"\n",
    "explanation\n",
    "toSave = (explanation, estimations_max)"
   ]
  },
  {
   "cell_type": "code",
   "execution_count": null,
   "id": "eafb8b7a",
   "metadata": {},
   "outputs": [],
   "source": [
    "with open('estimationsTriangleRevised200224.pkl', 'wb') as file:\n",
    "    pickle.dump(toSave, file)"
   ]
  },
  {
   "cell_type": "code",
   "execution_count": null,
   "id": "b8da2a9a",
   "metadata": {},
   "outputs": [],
   "source": [
    "import pickle\n",
    "explanation = \"Estimations for Scenario 2 (Triangle).\"\n",
    "explanation += \" First is explanation, second is estimations in reduced model,\"\n",
    "explanation += \" third is estimations in full model.\"\n",
    "explanation += \" Dimensions (repetitions, parameters).\"\n",
    "explanation\n",
    "toSave = (explanation, estimations_max, estimations)\n",
    "with open('estimationsTriangleRevised200224.pkl', 'wb') as file:\n",
    "    pickle.dump(toSave, file)"
   ]
  },
  {
   "cell_type": "code",
   "execution_count": 3,
   "id": "4a312c00",
   "metadata": {},
   "outputs": [],
   "source": [
    "import pickle\n",
    "with open('estimationsColumn2902N.pkl', 'rb') as file:\n",
    "    _, est_colmax, est_col = pickle.load(file)\n",
    "with open('estimationsTriangle2902N.pkl', 'rb') as file:\n",
    "    _, est_trimax, est_tri = pickle.load(file)\n",
    "with open('estimationsFull.pkl', 'rb') as file:\n",
    "    _, est_full = pickle.load(file)\n",
    "sns.set(font_scale=1.75)"
   ]
  },
  {
   "cell_type": "code",
   "execution_count": 65,
   "id": "57c5ce4d",
   "metadata": {},
   "outputs": [
    {
     "data": {
      "text/plain": [
       "(50, 9)"
      ]
     },
     "execution_count": 65,
     "metadata": {},
     "output_type": "execute_result"
    }
   ],
   "source": [
    "est_col.shape"
   ]
  },
  {
   "cell_type": "code",
   "execution_count": 4,
   "id": "9f63f1f8",
   "metadata": {},
   "outputs": [],
   "source": [
    "theta_col = np.array([1. , 1. , 0.5, 0.4, 1. , 1.3, 0.5])\n",
    "theta_tri = np.array([1. , 1. , 0.5, 0.4, 0.4, 1. , 1.3, 0.5])"
   ]
  },
  {
   "cell_type": "code",
   "execution_count": 8,
   "id": "7d5b4f94",
   "metadata": {},
   "outputs": [
    {
     "data": {
      "text/plain": [
       "Text(0.5, 1.0, 'Scenario 2')"
      ]
     },
     "execution_count": 8,
     "metadata": {},
     "output_type": "execute_result"
    },
    {
     "data": {
      "image/png": "[encoded data removed]",
      "text/plain": [
       "<Figure size 1152x864 with 2 Axes>"
      ]
     },
     "metadata": {},
     "output_type": "display_data"
    }
   ],
   "source": [
    "parameters_col = [r\"$\\mu_1$\", r\"$\\mu_2$\", r\"$\\alpha_{11}$\", r\"$\\alpha_{21}$\", r\"$\\beta_1$\", r\"$\\beta_2$\", r\"$\\lambda_0$\"]\n",
    "parameters_tri = [r\"$\\mu_1$\", r\"$\\mu_2$\", r\"$\\alpha_{11}$\", r\"$\\alpha_{21}$\", r\"$\\alpha_{22}$\", r\"$\\beta_1$\", r\"$\\beta_2$\", r\"$\\lambda_0$\"]\n",
    "\n",
    "fig, ax = plt.subplots(2, 1, figsize=(16,12))\n",
    "bp = ax[0].boxplot(est_colmax, showmeans=True, meanprops={\"markersize\":10})\n",
    "rp = ax[0].scatter(range(1, 8), theta_col, label=\"Real parameter\", s=100)\n",
    "#ax.set_ylim([0.0 - 0.05 * np.max(estimations_max[:, -2]), \n",
    "#             1.05 * np.max(estimations_max[:, -2])])\n",
    "ax[0].set_xticklabels(parameters_col)\n",
    "#print(np.abs(np.mean(estimations_max, axis=0) - theta_max)/theta_max)\n",
    "#print(np.abs(np.mean(estimations, axis=0) - theta)/theta)\n",
    "#ax.legend()\n",
    "#ax[0].legend([matplotlib.lines.Line2D([0], [0], marker=\"o\", ls=\"\"), bp['means'][0]], ['Real parameter', 'Mean estimation'], loc='upper left')\n",
    "ax[0].legend([rp, bp['means'][0]], ['Real parameter', 'Mean estimation'], loc='best')\n",
    "ax[0].set_title(\"Scenario 1\")\n",
    "\n",
    "bp = ax[1].boxplot(est_trimax, showmeans=True, meanprops={\"markersize\":10})\n",
    "rp = ax[1].scatter(range(1, 9), theta_tri, label=\"Real parameter\", s=100)\n",
    "#ax[1].set_ylim([0.0 - 0.05 * np.max(est_trimax[:, -2]), \n",
    "#             1.05 * np.max(est_trimax[:, -2])])\n",
    "ax[1].set_xticklabels(parameters_tri)\n",
    "#print(np.abs(np.mean(estimations_max, axis=0) - theta_max)/theta_max)\n",
    "#print(np.abs(np.mean(estimations, axis=0) - theta)/theta)\n",
    "#ax.legend()\n",
    "#ax[1].legend([matplotlib.lines.Line2D([0], [0], marker=\"o\", ls=\"\"), bp['means'][0]], ['Real parameter', 'Mean estimation'], loc='best')\n",
    "ax[1].set_title(\"Scenario 2\")\n",
    "#fig.savefig(\"correct_model_estimation.pdf\", format=\"pdf\", bbox_inches='tight')\n"
   ]
  },
  {
   "cell_type": "code",
   "execution_count": 5,
   "id": "a26b15ba",
   "metadata": {},
   "outputs": [
    {
     "data": {
      "text/plain": [
       "(array([0.2574281 , 0.28969224, 0.08498123, 0.08624601, 0.10898412,\n",
       "        0.12207871, 0.74889066]),\n",
       " array([0.01764304, 0.02260147, 0.00256809, 0.00292733, 0.00941198,\n",
       "        0.01283293, 0.15515083]))"
      ]
     },
     "execution_count": 5,
     "metadata": {},
     "output_type": "execute_result"
    }
   ],
   "source": [
    "# Mean errors and std COLUMN\n",
    "mean = np.mean(np.abs(est_colmax - theta_col)/theta_col, axis=0)\n",
    "std = np.mean((np.abs(est_colmax - theta_col)/theta_col)**2, axis=0) - mean**2\n",
    "mean, std"
   ]
  },
  {
   "cell_type": "code",
   "execution_count": 6,
   "id": "0dd5a2ac",
   "metadata": {},
   "outputs": [
    {
     "data": {
      "text/plain": [
       "(array([0.26054507, 0.16030989, 0.08149506, 0.08962444, 0.05192003,\n",
       "        0.12739267, 0.08696759, 0.76198739]),\n",
       " array([0.02671305, 0.01320237, 0.00426557, 0.00520504, 0.00115847,\n",
       "        0.0127157 , 0.00405404, 0.24374433]))"
      ]
     },
     "execution_count": 6,
     "metadata": {},
     "output_type": "execute_result"
    }
   ],
   "source": [
    "# Mean errors and std Triangle\n",
    "mean = np.mean(np.abs(est_trimax - theta_tri)/theta_tri, axis=0)\n",
    "std = np.mean((np.abs(est_trimax - theta_tri)/theta_tri)**2, axis=0) - mean**2\n",
    "mean, std"
   ]
  },
  {
   "cell_type": "code",
   "execution_count": 7,
   "id": "ec046880",
   "metadata": {},
   "outputs": [
    {
     "name": "stdout",
     "output_type": "stream",
     "text": [
      "[0.00052195 0.01821424 0.00269446 0.02038805 0.04475717 0.00287059\n",
      " 0.04451038]\n",
      "[0.00715882 0.01733689 0.00915089 0.02384825 0.00913078 0.0268392\n",
      " 0.01448769 0.01719771]\n"
     ]
    }
   ],
   "source": [
    "# Error on average estimation\n",
    "print(np.abs(np.mean(est_colmax, axis=0) - theta_col)/theta_col)\n",
    "print(np.abs(np.mean(est_trimax, axis=0) - theta_tri)/theta_tri)"
   ]
  },
  {
   "cell_type": "code",
   "execution_count": 191,
   "id": "44a3fd15",
   "metadata": {},
   "outputs": [
    {
     "data": {
      "text/plain": [
       "[array([ True,  True,  True,  True,  True,  True,  True,  True,  True,\n",
       "         True,  True,  True,  True,  True,  True,  True,  True,  True,\n",
       "         True,  True,  True,  True,  True,  True,  True,  True,  True,\n",
       "         True,  True,  True,  True, False,  True,  True,  True,  True,\n",
       "         True,  True,  True,  True,  True,  True,  True,  True,  True,\n",
       "         True,  True,  True,  True,  True])]"
      ]
     },
     "execution_count": 191,
     "metadata": {},
     "output_type": "execute_result"
    }
   ],
   "source": [
    "[est_col[:, -2] < np.max(est_col[:, -2])]"
   ]
  },
  {
   "cell_type": "code",
   "execution_count": 19,
   "id": "f87f15c2",
   "metadata": {},
   "outputs": [
    {
     "data": {
      "text/plain": [
       "Text(0.5, 1.0, 'Scenario 2')"
      ]
     },
     "execution_count": 19,
     "metadata": {},
     "output_type": "execute_result"
    },
    {
     "data": {
      "image/png": "[encoded data removed]",
      "text/plain": [
       "<Figure size 1152x864 with 2 Axes>"
      ]
     },
     "metadata": {},
     "output_type": "display_data"
    }
   ],
   "source": [
    "parameters_full = [r\"$\\mu_1$\", r\"$\\mu_2$\", r\"$\\alpha_{11}$\", r\"$\\alpha_{12}$\", r\"$\\alpha_{21}$\", r\"$\\alpha_{22}$\", r\"$\\beta_1$\", r\"$\\beta_2$\", r\"$\\lambda_0$\"]\n",
    "theta_colfull = np.array([1. , 1. , 0.5, 0.0, 0.4, 0.0, 1. , 1.3, 0.5])\n",
    "theta_trifull = np.array([1. , 1. , 0.5, 0.0, 0.4, 0.4, 1. , 1.3, 0.5])\n",
    "\n",
    "fig, ax = plt.subplots(2, 1, figsize=(16,12))\n",
    "bp = ax[0].boxplot(est_col, showmeans=True, meanprops={\"markersize\":10})\n",
    "rp = ax[0].scatter(range(1, 10), theta_colfull, label=\"Real parameter\", s=100)\n",
    "aux = np.max(est_col[est_col[:, -2] < np.max(est_col[:, -2]), -2])\n",
    "ax[0].set_ylim([0.0 - 0.05 * aux, \n",
    "             1.05 * aux])\n",
    "ax[0].set_xticklabels(parameters_full)\n",
    "#print(np.abs(np.mean(estimations_max, axis=0) - theta_max)/theta_max)\n",
    "#print(np.abs(np.mean(estimations, axis=0) - theta)/theta)\n",
    "#ax.legend()\n",
    "ax[0].legend([rp, bp['means'][0]], ['Real parameter', 'Mean estimation'], loc='best')\n",
    "ax[0].set_title(\"Scenario 1\")\n",
    "\n",
    "bp = ax[1].boxplot(est_tri, showmeans=True, meanprops={\"markersize\":10})\n",
    "rp = ax[1].scatter(range(1, 10), theta_trifull, label=\"Real parameter\", s=100)\n",
    "#ax[1].set_ylim([0.0 - 0.05 * np.max(est_trimax[:, -2]), \n",
    "#             1.05 * np.max(est_trimax[:, -2])])\n",
    "ax[1].set_xticklabels(parameters_full)\n",
    "#print(np.abs(np.mean(estimations_max, axis=0) - theta_max)/theta_max)\n",
    "#print(np.abs(np.mean(estimations, axis=0) - theta)/theta)\n",
    "#ax.legend()\n",
    "ax[1].set_title(\"Scenario 2\")\n",
    "#fig.savefig(\"full_model_estimation.pdf\", format=\"pdf\", bbox_inches='tight')\n"
   ]
  },
  {
   "cell_type": "code",
   "execution_count": 26,
   "id": "5078a199",
   "metadata": {
    "scrolled": true
   },
   "outputs": [
    {
     "name": "stdout",
     "output_type": "stream",
     "text": [
      "col\n",
      "[0.4, 0.0, 0.32, 0.0]\n",
      "tri\n",
      "[0.41, 0.0, 0.34, 0.35]\n"
     ]
    }
   ],
   "source": [
    "print(\"col\")\n",
    "print([np.round(np.quantile(est_col[:, i+2], q=0.05),2) for i in range(4)])\n",
    "print(\"tri\")\n",
    "print([np.round(np.quantile(est_tri[:, i+2], q=0.05),2) for i in range(4)])"
   ]
  },
  {
   "cell_type": "code",
   "execution_count": 28,
   "id": "9399b659",
   "metadata": {},
   "outputs": [
    {
     "data": {
      "text/plain": [
       "'--------------------'"
      ]
     },
     "execution_count": 28,
     "metadata": {},
     "output_type": "execute_result"
    }
   ],
   "source": [
    "\"-\"*20"
   ]
  },
  {
   "cell_type": "code",
   "execution_count": 202,
   "id": "0359d2ff",
   "metadata": {},
   "outputs": [
    {
     "data": {
      "image/png": "[encoded data removed]",
      "text/plain": [
       "<Figure size 864x360 with 1 Axes>"
      ]
     },
     "metadata": {},
     "output_type": "display_data"
    }
   ],
   "source": [
    "parameters_full = [r\"$\\mu_1$\", r\"$\\mu_2$\", r\"$\\alpha_{11}$\", r\"$\\alpha_{12}$\", r\"$\\alpha_{21}$\", r\"$\\alpha_{22}$\", r\"$\\beta_1$\", r\"$\\beta_2$\", r\"$\\lambda_0$\"]\n",
    "theta_full = np.array([1. , 1. , 0.5, 0.1, 0.2, 0.3, 1. , 1.3, 0.5])\n",
    "fig, ax = plt.subplots(1, 1, figsize=(12,5))\n",
    "bp = ax.boxplot(est_full, showmeans=True)\n",
    "rp = ax.scatter(range(1, 10), theta_full, label=\"Real parameter\")\n",
    "#aux = np.max(est_col[est_col[:, -2] < np.max(est_col[:, -2]), -2])\n",
    "#ax[0].set_ylim([0.0 - 0.05 * aux, \n",
    "#             1.05 * aux])\n",
    "ax.set_xticklabels(parameters_full)\n",
    "#print(np.abs(np.mean(estimations_max, axis=0) - theta_max)/theta_max)\n",
    "#print(np.abs(np.mean(estimations, axis=0) - theta)/theta)\n",
    "#ax.legend()\n",
    "ax.legend([matplotlib.lines.Line2D([0], [0], marker=\"o\", ls=\"\"), bp['means'][0]], ['Real parameter', 'Mean estimation'], loc='upper left')\n",
    "ax.set_title(\"Full matrix\")\n",
    "\n",
    "fig.savefig(\"full_matrix_estimation.pdf\", format=\"pdf\", bbox_inches='tight')\n"
   ]
  },
  {
   "cell_type": "code",
   "execution_count": 201,
   "id": "6fe5c1a6",
   "metadata": {},
   "outputs": [
    {
     "name": "stdout",
     "output_type": "stream",
     "text": [
      "0.40719774649407975 0.002884928573924392 0.13064392337376682 0.2057011162704595 "
     ]
    }
   ],
   "source": [
    "for i in range(4):\n",
    "    print(np.quantile(est_full[:, i+2], q=0.05), end=\" \")"
   ]
  },
  {
   "cell_type": "markdown",
   "id": "63bbbae8",
   "metadata": {},
   "source": [
    "# Error by parameter vector"
   ]
  },
  {
   "cell_type": "code",
   "execution_count": 69,
   "id": "c685fb33",
   "metadata": {},
   "outputs": [
    {
     "data": {
      "text/plain": [
       "((50, 7), array([1. , 1. , 0.5, 0.4, 1. , 1.3, 0.5]))"
      ]
     },
     "execution_count": 69,
     "metadata": {},
     "output_type": "execute_result"
    }
   ],
   "source": [
    "est_colmax.shape, theta_col"
   ]
  },
  {
   "cell_type": "code",
   "execution_count": 11,
   "id": "499c021b",
   "metadata": {},
   "outputs": [],
   "source": [
    "def norms(v, sizes):\n",
    "    aux = 0\n",
    "    res = np.zeros(len(sizes))\n",
    "    for i, idx in enumerate(sizes):\n",
    "        res[i] = norm(v[aux:aux+idx], ord=1)\n",
    "        aux += idx\n",
    "    return res"
   ]
  },
  {
   "cell_type": "code",
   "execution_count": 12,
   "id": "c06a90d6",
   "metadata": {},
   "outputs": [
    {
     "data": {
      "text/plain": [
       "array([2. , 0.9, 2.3, 0.5])"
      ]
     },
     "execution_count": 12,
     "metadata": {},
     "output_type": "execute_result"
    }
   ],
   "source": [
    "norms(theta_col, [2,2,2,1])"
   ]
  },
  {
   "cell_type": "code",
   "execution_count": 18,
   "id": "fe5dda62",
   "metadata": {},
   "outputs": [
    {
     "data": {
      "text/plain": [
       "array([1.40905925e+00, 1.36898370e+00, 4.42779350e-01, 3.84450700e-01,\n",
       "       1.14222072e+00, 1.22558940e+00, 1.00000000e-16])"
      ]
     },
     "execution_count": 18,
     "metadata": {},
     "output_type": "execute_result"
    }
   ],
   "source": [
    "est_colmax[1]"
   ]
  },
  {
   "cell_type": "code",
   "execution_count": 97,
   "id": "72034a3f",
   "metadata": {},
   "outputs": [
    {
     "data": {
      "text/plain": [
       "((50, 4), array([1.98109811, 0.46800298, 3.19586549, 0.21230174]))"
      ]
     },
     "execution_count": 97,
     "metadata": {},
     "output_type": "execute_result"
    }
   ],
   "source": [
    "np.array([norms(i, [2,2,2,1]) for i in est_colmax]).shape, norms(est_colmax[0], [2,2,2,1])"
   ]
  },
  {
   "cell_type": "code",
   "execution_count": 120,
   "id": "f7f86831",
   "metadata": {},
   "outputs": [
    {
     "data": {
      "text/plain": [
       "array([[1.98745513],\n",
       "       [2.80845631],\n",
       "       [2.40093511],\n",
       "       [1.64231243],\n",
       "       [2.26470988],\n",
       "       [2.95780823],\n",
       "       [1.65353478],\n",
       "       [2.67202382],\n",
       "       [1.65604997],\n",
       "       [0.97503384],\n",
       "       [2.62981514],\n",
       "       [1.36261881],\n",
       "       [1.70877906],\n",
       "       [2.78005082],\n",
       "       [2.63612468],\n",
       "       [1.24614953],\n",
       "       [2.46433778],\n",
       "       [2.07482653],\n",
       "       [1.46236977],\n",
       "       [1.8684167 ],\n",
       "       [1.60971143],\n",
       "       [2.88048506],\n",
       "       [2.5965303 ],\n",
       "       [1.95188468],\n",
       "       [2.84137436],\n",
       "       [1.91413611],\n",
       "       [1.18380841],\n",
       "       [2.54633709],\n",
       "       [1.97198118],\n",
       "       [1.09916801],\n",
       "       [1.31850857],\n",
       "       [1.22374118],\n",
       "       [1.89507147],\n",
       "       [2.24611964],\n",
       "       [1.53317652],\n",
       "       [2.21726056],\n",
       "       [2.42879781],\n",
       "       [1.43420414],\n",
       "       [1.55592064],\n",
       "       [1.52693367],\n",
       "       [1.67795423],\n",
       "       [0.84432046],\n",
       "       [2.34877554],\n",
       "       [1.57817807],\n",
       "       [1.56320765],\n",
       "       [2.89100246],\n",
       "       [2.06700089],\n",
       "       [1.04585047],\n",
       "       [1.71074984],\n",
       "       [0.86506858]])"
      ]
     },
     "execution_count": 120,
     "metadata": {},
     "output_type": "execute_result"
    }
   ],
   "source": [
    "np.array([norms(i, [2]) for i in est_colmax])"
   ]
  },
  {
   "cell_type": "code",
   "execution_count": 118,
   "id": "82b31e7d",
   "metadata": {},
   "outputs": [
    {
     "data": {
      "text/plain": [
       "array([0.12308142, 0.73278269, 0.41523795, 0.35728661, 0.04168479,\n",
       "       0.87018759, 0.32707369, 0.51150073, 0.3290447 , 0.89269995,\n",
       "       0.67228755, 0.56827895, 0.30637961, 0.60144974, 0.62065796,\n",
       "       0.82541518, 0.22563065, 0.09818176, 0.43771129, 0.21922038,\n",
       "       0.36092571, 0.88550958, 0.46475475, 0.05327208, 0.47157291,\n",
       "       0.11519704, 0.77853918, 0.63776957, 0.06551572, 0.7906315 ,\n",
       "       0.67445608, 0.67964165, 0.10153654, 0.28292138, 0.44735968,\n",
       "       0.38156222, 0.34018902, 0.5078443 , 0.42345232, 0.42753622,\n",
       "       0.13361966, 1.00241954, 0.31648863, 0.43052679, 0.28527401,\n",
       "       0.8063008 , 0.06059303, 0.72495098, 0.38207809, 0.96398184])"
      ]
     },
     "execution_count": 118,
     "metadata": {},
     "output_type": "execute_result"
    }
   ],
   "source": [
    "np.sum(np.abs(est_colmax[:, 0] - mu), axis=0)"
   ]
  },
  {
   "cell_type": "code",
   "execution_count": 24,
   "id": "6bb97362",
   "metadata": {},
   "outputs": [
    {
     "data": {
      "text/plain": [
       "(array([1. , 1. , 0.5, 0.4, 1. , 1.3, 0.5]), array([2. , 0.9, 2.3, 0.5]))"
      ]
     },
     "execution_count": 24,
     "metadata": {},
     "output_type": "execute_result"
    }
   ],
   "source": [
    "theta_col, norm_theta"
   ]
  },
  {
   "cell_type": "code",
   "execution_count": 26,
   "id": "468b78eb",
   "metadata": {},
   "outputs": [
    {
     "data": {
      "text/plain": [
       "array([[[0.27, 0.3 ],\n",
       "        [0.02, 0.01],\n",
       "        [0.02, 0.44]],\n",
       "\n",
       "       [[0.09, 0.13],\n",
       "        [0.  , 0.  ],\n",
       "        [0.01, 0.1 ]],\n",
       "\n",
       "       [[0.12, 0.11],\n",
       "        [0.01, 0.  ],\n",
       "        [0.05, 0.08]],\n",
       "\n",
       "       [[0.75, 0.85],\n",
       "        [0.16, 0.09],\n",
       "        [0.02, 0.32]]])"
      ]
     },
     "execution_count": 26,
     "metadata": {},
     "output_type": "execute_result"
    }
   ],
   "source": [
    "mat"
   ]
  },
  {
   "cell_type": "code",
   "execution_count": 27,
   "id": "3cc12c70",
   "metadata": {},
   "outputs": [
    {
     "name": "stdout",
     "output_type": "stream",
     "text": [
      "[[[0.274 0.3  ]\n",
      "  [0.018 0.01 ]\n",
      "  [0.019 0.441]]\n",
      "\n",
      " [[0.086 0.132]\n",
      "  [0.002 0.003]\n",
      "  [0.01  0.104]]\n",
      "\n",
      " [[0.116 0.108]\n",
      "  [0.006 0.005]\n",
      "  [0.048 0.075]]\n",
      "\n",
      " [[0.749 0.853]\n",
      "  [0.155 0.089]\n",
      "  [0.022 0.325]]]\n"
     ]
    },
    {
     "data": {
      "image/png": "[encoded data removed]",
      "text/plain": [
       "<Figure size 432x288 with 2 Axes>"
      ]
     },
     "metadata": {},
     "output_type": "display_data"
    }
   ],
   "source": [
    "# Errors for Column\n",
    "fig, ax = plt.subplots(1,2, sharey=True)\n",
    "mat = np.zeros(((4, 3 ,2)))\n",
    "norm_theta = norms(theta_col, [2,2,2,1])\n",
    "i=0\n",
    "ests = [est_colmax, est_col]\n",
    "thets = [theta_col, theta_colfull]\n",
    "ids = [2,4]\n",
    "for i in range(2):\n",
    "    errors = ests[i] - thets[i]\n",
    "    errors = np.array([norms(j, [2,ids[i],2,1]) for j in errors])/norm_theta\n",
    "    _ = ax[i].boxplot(errors)\n",
    "    mean_error = np.mean(ests[i], axis=0) - thets[i]\n",
    "    mat[:, 0, i] = np.round(np.mean(errors, axis=0),3)\n",
    "    mat[:, 1, i] = np.round(np.std(errors, axis=0)**2,3)\n",
    "    mat[:, 2, i] = np.round(norms(mean_error, [2,ids[i],2,1]),3)\n",
    "print(mat)"
   ]
  },
  {
   "cell_type": "code",
   "execution_count": 21,
   "id": "87d692e0",
   "metadata": {},
   "outputs": [
    {
     "data": {
      "text/plain": [
       "(0.04567319, 0.03137194)"
      ]
     },
     "execution_count": 21,
     "metadata": {},
     "output_type": "execute_result"
    }
   ],
   "source": [
    "0.0268392 + 0.01883399, 0.00970387 + 0.02166807"
   ]
  },
  {
   "cell_type": "code",
   "execution_count": 30,
   "id": "3410ab61",
   "metadata": {},
   "outputs": [
    {
     "name": "stdout",
     "output_type": "stream",
     "text": [
      "[[[0.21  0.231]\n",
      "  [0.016 0.015]\n",
      "  [0.024 0.155]]\n",
      "\n",
      " [[0.075 0.204]\n",
      "  [0.002 0.19 ]\n",
      "  [0.018 0.149]]\n",
      "\n",
      " [[0.105 0.1  ]\n",
      "  [0.005 0.004]\n",
      "  [0.046 0.031]]\n",
      "\n",
      " [[0.762 0.889]\n",
      "  [0.244 0.338]\n",
      "  [0.009 0.018]]]\n"
     ]
    },
    {
     "data": {
      "image/png": "[encoded data removed]",
      "text/plain": [
       "<Figure size 432x288 with 2 Axes>"
      ]
     },
     "metadata": {},
     "output_type": "display_data"
    }
   ],
   "source": [
    "# Errors for Column\n",
    "mat = np.zeros((4,3,2))\n",
    "fig, ax = plt.subplots(1,2, sharey=True)\n",
    "norm_theta = norms(theta_tri, [2,3,2,1])\n",
    "i=0\n",
    "ests = [est_trimax, est_tri]\n",
    "thets = [theta_tri, theta_trifull]\n",
    "ids = [3,4]\n",
    "for i in range(2):\n",
    "    errors = ests[i] - thets[i]\n",
    "    errors = np.array([norms(j, [2,ids[i],2,1]) for j in errors])/norm_theta\n",
    "    _ = ax[i].boxplot(errors)\n",
    "    mean_error = np.mean(ests[i], axis=0) - thets[i]\n",
    "    mat[:, 0, i] = np.round(np.mean(errors, axis=0),3)\n",
    "    mat[:, 1, i] = np.round(np.std(errors, axis=0)**2,3)\n",
    "    mat[:, 2, i] = np.round(norms(mean_error, [2,ids[i],2,1]),3)\n",
    "print(mat)\n",
    "    "
   ]
  },
  {
   "cell_type": "code",
   "execution_count": 130,
   "id": "9755b90b",
   "metadata": {},
   "outputs": [
    {
     "data": {
      "text/plain": [
       "(array([2. , 0.9, 2.3, 0.5]), array([2. , 0.9, 2.3, 0.5]))"
      ]
     },
     "execution_count": 130,
     "metadata": {},
     "output_type": "execute_result"
    }
   ],
   "source": [
    "norm_theta, norm_theta2"
   ]
  },
  {
   "cell_type": "code",
   "execution_count": 129,
   "id": "0a3b9e22",
   "metadata": {},
   "outputs": [
    {
     "data": {
      "image/png": "[encoded data removed]",
      "text/plain": [
       "<Figure size 432x288 with 1 Axes>"
      ]
     },
     "metadata": {},
     "output_type": "display_data"
    }
   ],
   "source": [
    "# Errors for Column\n",
    "norm_theta2 = norms(theta_colfull, [2,4,2,1])\n",
    "errors = est_col - theta_colfull\n",
    "errors = np.array([norms(i, [2,4,2,1]) for i in errors])/norm_theta2\n",
    "fig, ax = plt.subplots()\n",
    "_ = ax.boxplot(errors)"
   ]
  }
 ],
 "metadata": {
  "kernelspec": {
   "display_name": "Python 3 (ipykernel)",
   "language": "python",
   "name": "python3"
  },
  "language_info": {
   "codemirror_mode": {
    "name": "ipython",
    "version": 3
   },
   "file_extension": ".py",
   "mimetype": "text/x-python",
   "name": "python",
   "nbconvert_exporter": "python",
   "pygments_lexer": "ipython3",
   "version": "3.8.7"
  }
 },
 "nbformat": 4,
 "nbformat_minor": 5
}
